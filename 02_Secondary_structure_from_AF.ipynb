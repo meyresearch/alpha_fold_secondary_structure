{
 "cells": [
  {
   "cell_type": "markdown",
   "id": "64bec1ac",
   "metadata": {},
   "source": [
    "# Extract secondary structure from PDB files easily and generate spreadsheet\n",
    "\n",
    "<a rel=\"license\" href=\"https://creativecommons.org/licenses/by-sa/4.0/\"><img alt=\"Creative Commons Licence\" style=\"border-width:0\" src=\"https://licensebuttons.net/l/by-sa/4.0/88x31.png\" title='This work is licensed under a Creative Commons Attribution 4.0 International License.' align=\"right\"/></a>\n",
    "\n",
    "Author: Dr Antonia Mey   \n",
    "Email: antonia.mey@ed.ac.uk"
   ]
  },
  {
   "cell_type": "code",
   "execution_count": 1,
   "id": "57cda8a2",
   "metadata": {},
   "outputs": [],
   "source": [
    "# Imports\n",
    "import pandas as pd\n",
    "import numpy as np\n",
    "import glob \n",
    "import os\n",
    "import urllib\n",
    "from collections import Counter\n",
    "import urllib\n",
    "import json"
   ]
  },
  {
   "cell_type": "code",
   "execution_count": 2,
   "id": "7d1c58d9",
   "metadata": {},
   "outputs": [],
   "source": [
    "def get_sec_struct(fname, dssp_path):\n",
    "    \n",
    "    \"\"\" returns secondary structure of protein file\n",
    "    Parameters:\n",
    "    -----------\n",
    "    fname : String\n",
    "        name of alpha fold pdb file\n",
    "        \n",
    "    dssp_path : String\n",
    "        path to the installation of dssp\n",
    "        \n",
    "    Returns:\n",
    "    --------\n",
    "    secstruct : np.array\n",
    "        array containing secondary structure information\n",
    "    \n",
    "    Cheat sheet of secondary structure information:\n",
    "    -----------------------------------------------\n",
    "    H = α-helix\n",
    "    B = residue in isolated β-bridge\n",
    "    E = extended strand, participates in β ladder\n",
    "    G = 3-helix (310 helix)\n",
    "    I = 5 helix (π-helix)\n",
    "    T = hydrogen bonded turn\n",
    "    S = bend\n",
    "    \"\"\"\n",
    "    \n",
    "    # call DSSP\n",
    "    try:\n",
    "        import subprocess\n",
    "        subprocess.check_call(\"%s %s -o result.dssp\"%(dssp_path, fname), shell=True)\n",
    "        fin=open(\"result.dssp\",\"r\")\n",
    "    except Exception as e:\n",
    "        raise Exception(\"Could not calculate secondary structure! %s\"%e)\n",
    "\n",
    "    # parse output\n",
    "    readit=False\n",
    "    secstruct=[]\n",
    "    for line in fin:\n",
    "\n",
    "        if readit:\n",
    "            try:\n",
    "                if line[13:15] == '!*' or line[13] == '!':\n",
    "                    continue\n",
    "                else:\n",
    "                    ss = line[16]\n",
    "                    if line[16] == \" \":\n",
    "                        ss = \"-\"\n",
    "\n",
    "                    secstruct.append(ss)\n",
    "            except:\n",
    "                continue\n",
    "\n",
    "        if \"#\" in line:\n",
    "            readit=True\n",
    "\n",
    "    fin.close()\n",
    "\n",
    "    # clean temporary files\n",
    "    os.remove(\"result.dssp\")\n",
    "\n",
    "    return np.array(secstruct)"
   ]
  },
  {
   "cell_type": "code",
   "execution_count": 3,
   "id": "b1b4362e",
   "metadata": {},
   "outputs": [],
   "source": [
    "def download_alpha_fold_pdbs(uniprot_id_list, workdir = '.'):\n",
    "    counter = 0\n",
    "    for uniprot_id in uniprot_id_list:\n",
    "        # print(f\"At entry {counter}/{len(uniprot_id_list)}\")\n",
    "        # print(f\"ID: {uniprot_id}\")\n",
    "        download = f\"https://alphafold.ebi.ac.uk/files/AF-{uniprot_id}-F1-model_v2.pdb\"\n",
    "        \n",
    "        try:\n",
    "            file_name = os.path.join(workdir,f'AF-{uniprot_id}-F1-model_v2.pdb')\n",
    "            #file_name = f\"../data/alphafold/pdb_files/AF-{uniprot_id}-F1-model_v2.pdb\"\n",
    "            urllib.request.urlretrieve(download, file_name)\n",
    "        except urllib.error.HTTPError:\n",
    "            print(\"No such file.\")\n",
    "        counter = counter+1"
   ]
  },
  {
   "cell_type": "code",
   "execution_count": 4,
   "id": "547c26ae",
   "metadata": {},
   "outputs": [],
   "source": [
    "f = open('unique_ids_from_spreadsheet.txt', 'r')\n",
    "f_content = f.readlines()\n",
    "f.close()\n",
    "\n",
    "# All Uniprot IDS\n",
    "ids = []\n",
    "for f in f_content:\n",
    "    ids.append(f.strip())"
   ]
  },
  {
   "cell_type": "code",
   "execution_count": 30,
   "id": "d0a53746",
   "metadata": {},
   "outputs": [
    {
     "name": "stdout",
     "output_type": "stream",
     "text": [
      "At entry 0/16236\n",
      "ID: O00305\n",
      "At entry 5/16236\n",
      "ID: Q9HBG6\n",
      "At entry 10/16236\n",
      "ID: Q9NR28\n",
      "At entry 15/16236\n",
      "ID: Q6P444\n"
     ]
    }
   ],
   "source": [
    "# Now running everything to get the DSSP information of each protein str\n",
    "counter = 0\n",
    "for i in ids:\n",
    "    if counter%500==0:\n",
    "        print(f\"At entry {counter}/{len(ids)}\")\n",
    "        print(f\"ID: {i}\")\n",
    "    download_alpha_fold_pdbs([i], workdir ='temp1')\n",
    "    p = 'temp1/AF-'+i+'-F1-model_v2.pdb'\n",
    "    sec_struc_output = get_sec_struct(p, '/Users/toni_brain/miniconda3/envs/dssp//bin/mkdssp')\n",
    "    np.save(f'dssp_info/{i}.npy', sec_struc_output)\n",
    "    \n",
    "    # remove pdb file\n",
    "    os.remove(p)\n",
    "    counter = counter +1"
   ]
  },
  {
   "cell_type": "code",
   "execution_count": 19,
   "id": "4891872b",
   "metadata": {},
   "outputs": [],
   "source": [
    "np.save(\"data.npy\", sec_struc_output)"
   ]
  },
  {
   "cell_type": "code",
   "execution_count": 20,
   "id": "98c9f06d",
   "metadata": {},
   "outputs": [
    {
     "data": {
      "text/plain": [
       "array(['-', '-', '-', '-', '-', '-', '-', '-', '-', '-', '-', '-', 'S',\n",
       "       'S', 'S', 'S', 'S', '-', '-', '-', '-', '-', '-', '-', '-', '-',\n",
       "       '-', '-', 'T', 'T', 'S', 'T', 'T', 'T', 'G', 'G', 'G', 'S', '-',\n",
       "       'S', '-', '-', '-', '-', '-', '-', 'G', 'G', 'G', 'T', 'T', 'T',\n",
       "       'T', 'T', 'T', 'S', '-', '-', '-', '-', '-', '-', '-', '-', '-',\n",
       "       '-', '-', '-', '-', '-', '-', '-', '-', '-', '-', '-', '-', '-',\n",
       "       '-', '-', '-', '-', '-', '-', '-', '-', '-', '-', '-', '-', '-',\n",
       "       '-', '-', '-', 'H', 'H', 'H', 'H', 'H', 'H', 'H', 'H', 'H', 'H',\n",
       "       'H', 'H', 'H', '-', 'S', '-', '-', '-', 'S', '-', '-', '-', '-',\n",
       "       '-', 'T', 'T', '-', 'H', 'H', 'H', 'H', 'H', 'H', 'H', 'H', 'H',\n",
       "       'H', 'S', 'T', 'T', 'T', 'S', '-', '-', '-', 'H', 'H', 'H', 'H',\n",
       "       'H', 'H', 'H', 'H', 'H', 'H', 'H', 'H', 'H', 'H', 'H', 'T', 'T',\n",
       "       'S', '-', 'S', '-', '-', '-', '-', '-', '-', '-', '-', '-', '-',\n",
       "       '-', '-', '-', 'T', 'T', 'S', 'H', 'H', 'H', 'H', 'H', 'H', 'H',\n",
       "       'H', 'H', 'T', 'T', '-', '-', '-', '-', 'H', 'H', 'H', 'H', '-',\n",
       "       '-', '-', '-', '-', '-', '-', '-', '-', '-', '-', '-', '-', '-',\n",
       "       '-', '-', '-', '-', '-', '-', '-', '-', '-', '-', '-', '-', '-',\n",
       "       '-', '-', '-', '-', '-', '-', '-', '-', '-', '-', '-', '-', '-',\n",
       "       '-', '-', '-', '-', '-', '-', '-', '-', '-', '-', '-', '-', '-',\n",
       "       '-', '-', '-', '-', '-', '-', '-', '-', '-', '-', '-', '-', '-',\n",
       "       '-', '-', '-', '-', '-', '-', '-', '-', '-', '-', '-', '-', '-',\n",
       "       '-', '-', '-', '-', '-', '-', '-', '-', '-', '-', '-', '-', '-',\n",
       "       '-', '-', '-', '-', '-', '-', '-', '-', '-', '-', '-', '-', '-',\n",
       "       '-', '-', '-', '-', '-', '-', '-', '-', '-', 'T', 'T', 'S', '-',\n",
       "       '-', '-', '-', '-', '-', '-', '-', '-', '-', '-', '-', '-', '-',\n",
       "       '-', '-', '-', '-', '-', '-', '-', '-', '-', '-', '-', '-', '-',\n",
       "       '-', '-', '-', '-', '-', '-', '-', 'T', 'T', 'H', 'H', 'H', 'H',\n",
       "       'H', 'H', 'H', 'H', 'H', 'H', 'H', 'H', 'H', 'H', 'H', 'H', 'H',\n",
       "       'H', 'H', 'H', 'H', 'H', 'H', 'H', 'H', 'H', 'H', 'H', 'H', 'H',\n",
       "       'H', 'T', 'T', 'S', 'T', 'T', 'T', 'T', 'T', '-', 'T', 'T', '-',\n",
       "       '-', 'H', 'H', 'H', 'H', 'H', 'H', 'H', 'H', 'H', 'H', 'H', 'H',\n",
       "       'H', 'H', 'H', 'H', 'H', 'H', 'H', 'H', 'H', 'H', 'H', 'H', 'H',\n",
       "       'H', 'H', 'H', 'H', 'H', 'H', 'H', 'H', 'H', 'H', 'H', 'H', 'H',\n",
       "       'H', 'H', 'H', 'H', 'H', 'H', 'H', 'H', '-', '-'], dtype='<U1')"
      ]
     },
     "execution_count": 20,
     "metadata": {},
     "output_type": "execute_result"
    }
   ],
   "source": [
    "np.load('data.npy')"
   ]
  },
  {
   "cell_type": "code",
   "execution_count": null,
   "id": "83cc2b2d",
   "metadata": {},
   "outputs": [],
   "source": []
  }
 ],
 "metadata": {
  "kernelspec": {
   "display_name": "Python 3 (ipykernel)",
   "language": "python",
   "name": "python3"
  },
  "language_info": {
   "codemirror_mode": {
    "name": "ipython",
    "version": 3
   },
   "file_extension": ".py",
   "mimetype": "text/x-python",
   "name": "python",
   "nbconvert_exporter": "python",
   "pygments_lexer": "ipython3",
   "version": "3.11.0"
  }
 },
 "nbformat": 4,
 "nbformat_minor": 5
}
