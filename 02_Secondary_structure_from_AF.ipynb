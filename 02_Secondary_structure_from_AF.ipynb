{
 "cells": [
  {
   "cell_type": "markdown",
   "id": "dfb11fa6",
   "metadata": {},
   "source": [
    "# Extract secondary structure from AF2 PDB files and save secondary structure info\n",
    "\n",
    "<a rel=\"license\" href=\"https://creativecommons.org/licenses/by-sa/4.0/\"><img alt=\"Creative Commons Licence\" style=\"border-width:0\" src=\"https://licensebuttons.net/l/by-sa/4.0/88x31.png\" title='This work is licensed under a Creative Commons Attribution 4.0 International License.' align=\"right\"/></a>\n",
    "\n",
    "Author: Dr Antonia Mey   \n",
    "Email: antonia.mey@ed.ac.uk"
   ]
  },
  {
   "cell_type": "code",
   "execution_count": 1,
   "id": "e6ecd615",
   "metadata": {},
   "outputs": [],
   "source": [
    "# Imports\n",
    "import pandas as pd\n",
    "import numpy as np\n",
    "import glob \n",
    "import os\n",
    "import urllib\n",
    "from collections import Counter\n",
    "import urllib\n",
    "import json"
   ]
  },
  {
   "cell_type": "code",
   "execution_count": 2,
   "id": "6c6dd3b1",
   "metadata": {},
   "outputs": [],
   "source": [
    "def get_sec_struct(fname, dssp_path):\n",
    "    \n",
    "    \"\"\" returns secondary structure of protein file\n",
    "    Parameters:\n",
    "    -----------\n",
    "    fname : String\n",
    "        name of alpha fold pdb file\n",
    "        \n",
    "    dssp_path : String\n",
    "        path to the installation of dssp\n",
    "        \n",
    "    Returns:\n",
    "    --------\n",
    "    secstruct : np.array\n",
    "        array containing secondary structure information\n",
    "    \n",
    "    Cheat sheet of secondary structure information:\n",
    "    -----------------------------------------------\n",
    "    H = α-helix\n",
    "    B = residue in isolated β-bridge\n",
    "    E = extended strand, participates in β ladder\n",
    "    G = 3-helix (310 helix)\n",
    "    I = 5 helix (π-helix)\n",
    "    T = hydrogen bonded turn\n",
    "    S = bend\n",
    "    \"\"\"\n",
    "    \n",
    "    # call DSSP\n",
    "    try:\n",
    "        import subprocess\n",
    "        subprocess.check_call(\"%s %s -o result.dssp\"%(dssp_path, fname), shell=True)\n",
    "        fin=open(\"result.dssp\",\"r\")\n",
    "    except Exception as e:\n",
    "        raise Exception(\"Could not calculate secondary structure! %s\"%e)\n",
    "\n",
    "    # parse output\n",
    "    readit=False\n",
    "    secstruct=[]\n",
    "    for line in fin:\n",
    "\n",
    "        if readit:\n",
    "            try:\n",
    "                if line[13:15] == '!*' or line[13] == '!':\n",
    "                    continue\n",
    "                else:\n",
    "                    ss = line[16]\n",
    "                    if line[16] == \" \":\n",
    "                        ss = \"-\"\n",
    "\n",
    "                    secstruct.append(ss)\n",
    "            except:\n",
    "                continue\n",
    "\n",
    "        if \"#\" in line:\n",
    "            readit=True\n",
    "\n",
    "    fin.close()\n",
    "\n",
    "    # clean temporary files\n",
    "    os.remove(\"result.dssp\")\n",
    "\n",
    "    return np.array(secstruct)"
   ]
  },
  {
   "cell_type": "code",
   "execution_count": 3,
   "id": "0ce39c91",
   "metadata": {},
   "outputs": [],
   "source": [
    "def download_alpha_fold_pdbs(uniprot_id_list, workdir = '.'):\n",
    "    counter = 0\n",
    "    for uniprot_id in uniprot_id_list:\n",
    "        # print(f\"At entry {counter}/{len(uniprot_id_list)}\")\n",
    "        # print(f\"ID: {uniprot_id}\")\n",
    "        download = f\"https://alphafold.ebi.ac.uk/files/AF-{uniprot_id}-F1-model_v2.pdb\"\n",
    "        \n",
    "        try:\n",
    "            file_name = os.path.join(workdir,f'AF-{uniprot_id}-F1-model_v2.pdb')\n",
    "            #file_name = f\"../data/alphafold/pdb_files/AF-{uniprot_id}-F1-model_v2.pdb\"\n",
    "            urllib.request.urlretrieve(download, file_name)\n",
    "        except urllib.error.HTTPError:\n",
    "            print(\"No such file.\")\n",
    "        counter = counter+1"
   ]
  },
  {
   "cell_type": "code",
   "execution_count": 4,
   "id": "4c27f5f8",
   "metadata": {},
   "outputs": [],
   "source": [
    "f = open('unique_ids_from_spreadsheet.txt', 'r')\n",
    "f_content = f.readlines()\n",
    "f.close()\n",
    "\n",
    "# All Uniprot IDS\n",
    "ids = []\n",
    "for f in f_content:\n",
    "    ids.append(f.strip())"
   ]
  },
  {
   "cell_type": "code",
   "execution_count": 5,
   "id": "88ab2b39",
   "metadata": {},
   "outputs": [
    {
     "name": "stdout",
     "output_type": "stream",
     "text": [
      "At entry 0/16236\n",
      "ID: O00305\n",
      "At entry 500/16236\n",
      "ID: Q8N6Y2\n",
      "At entry 1000/16236\n",
      "ID: P24928\n",
      "At entry 1500/16236\n",
      "ID: Q92903\n",
      "At entry 2000/16236\n",
      "ID: Q8WTP8\n",
      "At entry 2500/16236\n",
      "ID: Q96SL8\n",
      "At entry 3000/16236\n",
      "ID: P06401\n",
      "At entry 3500/16236\n",
      "ID: Q6ZNG9\n",
      "At entry 4000/16236\n",
      "ID: P07954\n",
      "At entry 4500/16236\n",
      "ID: Q3ZCQ3\n",
      "At entry 5000/16236\n",
      "ID: Q8IX06\n",
      "At entry 5500/16236\n",
      "ID: Q8N4L1\n",
      "At entry 6000/16236\n",
      "ID: P35249\n",
      "At entry 6500/16236\n",
      "ID: O00748\n",
      "At entry 7000/16236\n",
      "ID: Q96B01\n",
      "At entry 7500/16236\n",
      "ID: Q86XK3\n",
      "At entry 8000/16236\n",
      "ID: Q96B26\n",
      "At entry 8500/16236\n",
      "ID: P29692\n",
      "At entry 9000/16236\n",
      "ID: Q9UKV3\n",
      "At entry 9500/16236\n",
      "ID: Q15544\n",
      "At entry 10000/16236\n",
      "ID: Q8N5Y2\n",
      "At entry 10500/16236\n",
      "ID: O75593\n",
      "At entry 11000/16236\n",
      "ID: Q8WUK0\n",
      "At entry 11500/16236\n",
      "ID: Q14232\n",
      "At entry 12000/16236\n",
      "ID: Q9P2M7\n",
      "At entry 12500/16236\n",
      "ID: Q9BYQ8\n",
      "At entry 13000/16236\n",
      "ID: P25789\n",
      "At entry 13500/16236\n",
      "ID: Q92896\n",
      "At entry 14000/16236\n",
      "ID: Q16611\n",
      "At entry 14500/16236\n",
      "ID: Q9NP77\n",
      "At entry 15000/16236\n",
      "ID: P52294\n",
      "At entry 15500/16236\n",
      "ID: Q6ZV50\n",
      "At entry 16000/16236\n",
      "ID: Q6VMQ6\n"
     ]
    }
   ],
   "source": [
    "# Now running everything to get the DSSP information of each protein structure\n",
    "counter = 0\n",
    "for i in ids:\n",
    "    if counter%500==0:\n",
    "        print(f\"At entry {counter}/{len(ids)}\")\n",
    "        print(f\"ID: {i}\")\n",
    "    download_alpha_fold_pdbs([i], workdir ='temp1')\n",
    "    p = 'temp1/AF-'+i+'-F1-model_v2.pdb'\n",
    "    sec_struc_output = get_sec_struct(p, '/Users/toni_brain/miniconda3/envs/dssp//bin/mkdssp')\n",
    "    np.save(f'dssp_info/{i}.npy', sec_struc_output)\n",
    "    \n",
    "    # remove pdb file\n",
    "    os.remove(p)\n",
    "    counter = counter +1"
   ]
  },
  {
   "cell_type": "markdown",
   "id": "7900453e",
   "metadata": {},
   "source": [
    "----"
   ]
  },
  {
   "cell_type": "markdown",
   "id": "7025ae4a",
   "metadata": {},
   "source": [
    "## Backup functions"
   ]
  },
  {
   "cell_type": "code",
   "execution_count": null,
   "id": "2343a60c",
   "metadata": {},
   "outputs": [],
   "source": [
    "def select_high_confidence_structures(pdb_list, threshold=0.9):\n",
    "    \n",
    "    confidence_info=[]\n",
    "    for p in pdb_list:\n",
    "        f = open(p)\n",
    "        data = f.readlines()\n",
    "        f.close()\n",
    "        confidence_score = []\n",
    "        conf_dic = {}\n",
    "        for l in data:\n",
    "            if l.startswith('ATOM'):\n",
    "                curr_line =l.split()\n",
    "                confidence_score.append(float(curr_line[-2]))\n",
    "        conf_dic['mean'] = np.mean(confidence_score)\n",
    "        conf_dic['std'] = np.std(confidence_score)\n",
    "        conf_dic['name'] = p\n",
    "        confidence_info.append(conf_dic)\n",
    "    confidence_df = pd.DataFrame.from_dict(confidence_info)\n",
    "    filtering = confidence_df[\"mean\"]>90.0\n",
    "    high_confidence_pdbs = confidence_df.where(filfilteringter).dropna()['name']\n",
    "    return high_confidence_pdbs"
   ]
  },
  {
   "cell_type": "code",
   "execution_count": 9,
   "id": "66287f94",
   "metadata": {},
   "outputs": [
    {
     "data": {
      "text/plain": [
       "8707"
      ]
     },
     "execution_count": 9,
     "metadata": {},
     "output_type": "execute_result"
    }
   ],
   "source": [
    "ids.index('Q13523')"
   ]
  },
  {
   "cell_type": "code",
   "execution_count": 8,
   "id": "b116a0c3",
   "metadata": {},
   "outputs": [
    {
     "data": {
      "text/plain": [
       "['Q6NZ36', 'P35573']"
      ]
     },
     "execution_count": 8,
     "metadata": {},
     "output_type": "execute_result"
    }
   ],
   "source": [
    "ids[3473:3475]"
   ]
  },
  {
   "cell_type": "code",
   "execution_count": null,
   "id": "639a29cf",
   "metadata": {},
   "outputs": [],
   "source": []
  }
 ],
 "metadata": {
  "kernelspec": {
   "display_name": "Python 3 (ipykernel)",
   "language": "python",
   "name": "python3"
  },
  "language_info": {
   "codemirror_mode": {
    "name": "ipython",
    "version": 3
   },
   "file_extension": ".py",
   "mimetype": "text/x-python",
   "name": "python",
   "nbconvert_exporter": "python",
   "pygments_lexer": "ipython3",
   "version": "3.11.0"
  }
 },
 "nbformat": 4,
 "nbformat_minor": 5
}
