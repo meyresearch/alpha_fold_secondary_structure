{
 "cells": [
  {
   "cell_type": "markdown",
   "id": "2c5be565",
   "metadata": {},
   "source": [
    "# Extract secondary structure from PDB files easily\n",
    "\n",
    "<a rel=\"license\" href=\"https://creativecommons.org/licenses/by-sa/4.0/\"><img alt=\"Creative Commons Licence\" style=\"border-width:0\" src=\"https://licensebuttons.net/l/by-sa/4.0/88x31.png\" title='This work is licensed under a Creative Commons Attribution 4.0 International License.' align=\"right\"/></a>\n",
    "\n",
    "Author: Dr Antonia Mey   \n",
    "Email: antonia.mey@ed.ac.uk"
   ]
  },
  {
   "cell_type": "code",
   "execution_count": 4,
   "id": "01c65ec5",
   "metadata": {},
   "outputs": [],
   "source": [
    "# Imports\n",
    "import pandas as pd\n",
    "import numpy as np\n",
    "import glob \n",
    "import os\n",
    "import urllib\n",
    "from collections import Counter"
   ]
  },
  {
   "cell_type": "code",
   "execution_count": null,
   "id": "4d9151d6",
   "metadata": {},
   "outputs": [],
   "source": [
    "def download_alpha_fold_pdbs(uniprot_id_list, workdir = '.'):\n",
    "    counter = 0\n",
    "    for uniprot_id in uniprot_id_list:\n",
    "        print(f\"At entry {counter}/{len(uniprot_id_list)}\")\n",
    "        print(f\"ID: {uniprot_id}\")\n",
    "        download = f\"https://alphafold.ebi.ac.uk/files/AF-{uniprot_id}-F1-model_v2.pdb\"\n",
    "        \n",
    "        try:\n",
    "            file_name = os.path.join(workdir,f'AF-{uniprot_id}-F1-model_v2.pdb')\n",
    "            #file_name = f\"../data/alphafold/pdb_files/AF-{uniprot_id}-F1-model_v2.pdb\"\n",
    "            urllib.request.urlretrieve(download, file_name)\n",
    "        except urllib.error.HTTPError:\n",
    "            print(\"No such file.\")\n",
    "        counter = counter+1"
   ]
  },
  {
   "cell_type": "code",
   "execution_count": null,
   "id": "dc4af6a9",
   "metadata": {},
   "outputs": [],
   "source": [
    "def get_sec_struct(fname, dssp_path):\n",
    "    \n",
    "    \"\"\" returns secondary structure of protein file\n",
    "    Parameters:\n",
    "    -----------\n",
    "    fname : String\n",
    "        name of alpha fold pdb file\n",
    "        \n",
    "    dssp_path : String\n",
    "        path to the installation of dssp\n",
    "        \n",
    "    Returns:\n",
    "    --------\n",
    "    secstruct : np.array\n",
    "        array containing secondary structure information\n",
    "    \n",
    "    Cheat sheet of secondary structure information:\n",
    "    -----------------------------------------------\n",
    "    H = α-helix\n",
    "    B = residue in isolated β-bridge\n",
    "    E = extended strand, participates in β ladder\n",
    "    G = 3-helix (310 helix)\n",
    "    I = 5 helix (π-helix)\n",
    "    T = hydrogen bonded turn\n",
    "    S = bend\n",
    "    \"\"\"\n",
    "    \n",
    "    # call DSSP\n",
    "    try:\n",
    "        import subprocess\n",
    "        subprocess.check_call(\"%s %s -o result.dssp\"%(dssp_path, fname), shell=True)\n",
    "        fin=open(\"result.dssp\",\"r\")\n",
    "    except Exception as e:\n",
    "        raise Exception(\"Could not calculate secondary structure! %s\"%e)\n",
    "\n",
    "    # parse output\n",
    "    readit=False\n",
    "    secstruct=[]\n",
    "    for line in fin:\n",
    "\n",
    "        if readit:\n",
    "            try:\n",
    "                if line[13:15] == '!*' or line[13] == '!':\n",
    "                    continue\n",
    "                else:\n",
    "                    ss = line[16]\n",
    "                    if line[16] == \" \":\n",
    "                        ss = \"-\"\n",
    "\n",
    "                    secstruct.append(ss)\n",
    "            except:\n",
    "                continue\n",
    "\n",
    "        if \"#\" in line:\n",
    "            readit=True\n",
    "\n",
    "    fin.close()\n",
    "\n",
    "    # clean temporary files\n",
    "    os.remove(\"result.dssp\")\n",
    "\n",
    "    return np.array(secstruct)"
   ]
  },
  {
   "cell_type": "code",
   "execution_count": null,
   "id": "a1a7b817",
   "metadata": {},
   "outputs": [],
   "source": [
    "def select_high_confidence_structures(pdb_list, threshold=0.9):\n",
    "    \n",
    "    confidence_info=[]\n",
    "    for p in pdb_list:\n",
    "        f = open(p)\n",
    "        data = f.readlines()\n",
    "        f.close()\n",
    "        confidence_score = []\n",
    "        conf_dic = {}\n",
    "        for l in data:\n",
    "            if l.startswith('ATOM'):\n",
    "                curr_line =l.split()\n",
    "                confidence_score.append(float(curr_line[-2]))\n",
    "        conf_dic['mean'] = np.mean(confidence_score)\n",
    "        conf_dic['std'] = np.std(confidence_score)\n",
    "        conf_dic['name'] = p\n",
    "        confidence_info.append(conf_dic)\n",
    "    confidence_df = pd.DataFrame.from_dict(confidence_info)\n",
    "    filtering = confidence_df[\"mean\"]>90.0\n",
    "    high_confidence_pdbs = confidence_df.where(filfilteringter).dropna()['name']\n",
    "    return high_confidence_pdbs"
   ]
  },
  {
   "cell_type": "code",
   "execution_count": null,
   "id": "77661a8b",
   "metadata": {},
   "outputs": [],
   "source": [
    "# Defining Uniprot IDs, also from file\n",
    "uniprot_ids = ['B7HIJ2', 'F5WVJ2', 'C4LF00', 'O68891']"
   ]
  },
  {
   "cell_type": "code",
   "execution_count": null,
   "id": "dc64e850",
   "metadata": {},
   "outputs": [],
   "source": [
    "# Download alpha fold structures\n",
    "download_alpha_fold_pdbs(uniprot_ids, workdir='data')"
   ]
  },
  {
   "cell_type": "code",
   "execution_count": null,
   "id": "7043b44d",
   "metadata": {},
   "outputs": [],
   "source": [
    "pdbs_alpha = glob.glob('data/*.pdb')"
   ]
  },
  {
   "cell_type": "code",
   "execution_count": 5,
   "id": "e2772a1e",
   "metadata": {},
   "outputs": [],
   "source": [
    "# Now write everything out\n",
    "# Feel free to change file name\n",
    "f_name = 'secondary_struc.csv'\n",
    "secstruc_data = []\n",
    "f = open(f_name, 'w')\n",
    "for p in pdbs_alpha:\n",
    "    sec_struc_output = get_sec_struct(p, '/srv/conda/envs/notebook/bin/mkdssp')\n",
    "    uniprot_id = p.split('-')[1]\n",
    "    f.write(uniprot_id+',')\n",
    "    for r in sec_struc_output:\n",
    "        f.write(r)\n",
    "    f.write('\\n')\n",
    "f.close()"
   ]
  }
 ],
 "metadata": {
  "kernelspec": {
   "display_name": "Python 3 (ipykernel)",
   "language": "python",
   "name": "python3"
  },
  "language_info": {
   "codemirror_mode": {
    "name": "ipython",
    "version": 3
   },
   "file_extension": ".py",
   "mimetype": "text/x-python",
   "name": "python",
   "nbconvert_exporter": "python",
   "pygments_lexer": "ipython3",
   "version": "3.10.4"
  }
 },
 "nbformat": 4,
 "nbformat_minor": 5
}
