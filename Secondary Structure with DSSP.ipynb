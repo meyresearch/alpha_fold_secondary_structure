{
 "cells": [
  {
   "cell_type": "markdown",
   "id": "2c5be565",
   "metadata": {},
   "source": [
    "# Extract secondary structure from PDB files easily\n",
    "\n",
    "<a rel=\"license\" href=\"https://creativecommons.org/licenses/by-sa/4.0/\"><img alt=\"Creative Commons Licence\" style=\"border-width:0\" src=\"https://licensebuttons.net/l/by-sa/4.0/88x31.png\" title='This work is licensed under a Creative Commons Attribution 4.0 International License.' align=\"right\"/></a>\n",
    "\n",
    "Author: Dr Antonia Mey   \n",
    "Email: antonia.mey@ed.ac.uk"
   ]
  },
  {
   "cell_type": "code",
   "execution_count": 50,
   "id": "01c65ec5",
   "metadata": {},
   "outputs": [],
   "source": [
    "# Imports\n",
    "import pandas as pd\n",
    "import numpy as np\n",
    "import glob \n",
    "import os\n",
    "import urllib\n",
    "from collections import Counter"
   ]
  },
  {
   "cell_type": "code",
   "execution_count": 51,
   "id": "4d9151d6",
   "metadata": {},
   "outputs": [],
   "source": [
    "def download_alpha_fold_pdbs(uniprot_id_list, workdir = '.'):\n",
    "    counter = 0\n",
    "    for uniprot_id in uniprot_id_list:\n",
    "        print(f\"At entry {counter}/{len(uniprot_id_list)}\")\n",
    "        print(f\"ID: {uniprot_id}\")\n",
    "        download = f\"https://alphafold.ebi.ac.uk/files/AF-{uniprot_id}-F1-model_v2.pdb\"\n",
    "        \n",
    "        try:\n",
    "            file_name = os.path.join(workdir,f'AF-{uniprot_id}-F1-model_v2.pdb')\n",
    "            #file_name = f\"../data/alphafold/pdb_files/AF-{uniprot_id}-F1-model_v2.pdb\"\n",
    "            urllib.request.urlretrieve(download, file_name)\n",
    "        except urllib.error.HTTPError:\n",
    "            print(\"No such file.\")\n",
    "        counter = counter+1"
   ]
  },
  {
   "cell_type": "code",
   "execution_count": 52,
   "id": "dc4af6a9",
   "metadata": {},
   "outputs": [],
   "source": [
    "def get_sec_struct(fname, dssp_path):\n",
    "    \n",
    "    \"\"\" returns secondary structure of protein file\n",
    "    Parameters:\n",
    "    -----------\n",
    "    fname : String\n",
    "        name of alpha fold pdb file\n",
    "        \n",
    "    dssp_path : String\n",
    "        path to the installation of dssp\n",
    "        \n",
    "    Returns:\n",
    "    --------\n",
    "    secstruct : np.array\n",
    "        array containing secondary structure information\n",
    "    \n",
    "    Cheat sheet of secondary structure information:\n",
    "    -----------------------------------------------\n",
    "    H = α-helix\n",
    "    B = residue in isolated β-bridge\n",
    "    E = extended strand, participates in β ladder\n",
    "    G = 3-helix (310 helix)\n",
    "    I = 5 helix (π-helix)\n",
    "    T = hydrogen bonded turn\n",
    "    S = bend\n",
    "    \"\"\"\n",
    "    \n",
    "    # call DSSP\n",
    "    try:\n",
    "        import subprocess\n",
    "        subprocess.check_call(\"%s %s -o result.dssp\"%(dssp_path, fname), shell=True)\n",
    "        fin=open(\"result.dssp\",\"r\")\n",
    "    except Exception as e:\n",
    "        raise Exception(\"Could not calculate secondary structure! %s\"%e)\n",
    "\n",
    "    # parse output\n",
    "    readit=False\n",
    "    secstruct=[]\n",
    "    for line in fin:\n",
    "\n",
    "        if readit:\n",
    "            try:\n",
    "                if line[13:15] == '!*' or line[13] == '!':\n",
    "                    continue\n",
    "                else:\n",
    "                    ss = line[16]\n",
    "                    if line[16] == \" \":\n",
    "                        ss = \"-\"\n",
    "\n",
    "                    secstruct.append(ss)\n",
    "            except:\n",
    "                continue\n",
    "\n",
    "        if \"#\" in line:\n",
    "            readit=True\n",
    "\n",
    "    fin.close()\n",
    "\n",
    "    # clean temporary files\n",
    "    os.remove(\"result.dssp\")\n",
    "\n",
    "    return np.array(secstruct)"
   ]
  },
  {
   "cell_type": "code",
   "execution_count": 53,
   "id": "a1a7b817",
   "metadata": {},
   "outputs": [],
   "source": [
    "def select_high_confidence_structures(pdb_list, threshold=0.9):\n",
    "    \n",
    "    confidence_info=[]\n",
    "    for p in pdb_list:\n",
    "        f = open(p)\n",
    "        data = f.readlines()\n",
    "        f.close()\n",
    "        confidence_score = []\n",
    "        conf_dic = {}\n",
    "        for l in data:\n",
    "            if l.startswith('ATOM'):\n",
    "                curr_line =l.split()\n",
    "                confidence_score.append(float(curr_line[-2]))\n",
    "        conf_dic['mean'] = np.mean(confidence_score)\n",
    "        conf_dic['std'] = np.std(confidence_score)\n",
    "        conf_dic['name'] = p\n",
    "        confidence_info.append(conf_dic)\n",
    "    confidence_df = pd.DataFrame.from_dict(confidence_info)\n",
    "    filtering = confidence_df[\"mean\"]>90.0\n",
    "    high_confidence_pdbs = confidence_df.where(filfilteringter).dropna()['name']\n",
    "    return high_confidence_pdbs"
   ]
  },
  {
   "cell_type": "code",
   "execution_count": 120,
   "id": "434ff4f4",
   "metadata": {},
   "outputs": [],
   "source": [
    "def get_alpha_helix_length_and_location(secondary_struc):\n",
    "    helix_regions = []\n",
    "    counter = 0\n",
    "    curr_helix = []\n",
    "    indexes = [i for i, x in enumerate(list(secondary_struc)) if x == 'H']\n",
    "    for i in range(len(indexes)-1):\n",
    "        difference = indexes[i+1]-indexes[i]\n",
    "        if difference == 1:\n",
    "            curr_helix.append(indexes[i])\n",
    "            if i == len(indexes)-2:\n",
    "                if len(curr_helix)>=6:\n",
    "                    curr_helix.append(indexes[i+1])\n",
    "                    helix_regions.append(curr_helix)\n",
    "        else:\n",
    "            curr_helix.append(indexes[i])\n",
    "            if len(curr_helix)>=6:\n",
    "                helix_regions.append(curr_helix)\n",
    "            curr_helix = []\n",
    "    return helix_regions"
   ]
  },
  {
   "cell_type": "code",
   "execution_count": null,
   "id": "4dd18eee",
   "metadata": {},
   "outputs": [],
   "source": [
    "def check_if_helix_form_part_of_known_folds(helix_regions):"
   ]
  },
  {
   "cell_type": "code",
   "execution_count": 55,
   "id": "77661a8b",
   "metadata": {},
   "outputs": [],
   "source": [
    "# Defining Uniprot IDs, also from file\n",
    "#uniprot_ids = ['B7HIJ2', 'F5WVJ2', 'C4LF00', 'O68891']\n",
    "uniprot_ids = ['P01106']"
   ]
  },
  {
   "cell_type": "code",
   "execution_count": 56,
   "id": "dc64e850",
   "metadata": {},
   "outputs": [
    {
     "name": "stdout",
     "output_type": "stream",
     "text": [
      "At entry 0/1\n",
      "ID: P01106\n"
     ]
    }
   ],
   "source": [
    "# Download alpha fold structures\n",
    "download_alpha_fold_pdbs(uniprot_ids, workdir='data')"
   ]
  },
  {
   "cell_type": "code",
   "execution_count": 57,
   "id": "7043b44d",
   "metadata": {},
   "outputs": [],
   "source": [
    "pdbs_alpha = glob.glob('data/*.pdb')"
   ]
  },
  {
   "cell_type": "code",
   "execution_count": 60,
   "id": "e2772a1e",
   "metadata": {},
   "outputs": [
    {
     "name": "stdout",
     "output_type": "stream",
     "text": [
      "['-' '-' '-' '-' '-' '-' '-' '-' '-' '-' '-' '-' 'S' 'S' 'S' 'S' 'S' '-'\n",
      " '-' '-' '-' '-' '-' '-' '-' '-' '-' '-' 'T' 'T' 'S' 'T' 'T' 'T' 'G' 'G'\n",
      " 'G' 'S' '-' 'S' '-' '-' '-' '-' '-' '-' 'G' 'G' 'G' 'T' 'T' 'T' 'T' 'T'\n",
      " 'T' 'S' '-' '-' '-' '-' '-' '-' '-' '-' '-' '-' '-' '-' '-' '-' '-' '-'\n",
      " '-' '-' '-' '-' '-' '-' '-' '-' '-' '-' '-' '-' '-' '-' '-' '-' '-' '-'\n",
      " '-' '-' '-' '-' 'H' 'H' 'H' 'H' 'H' 'H' 'H' 'H' 'H' 'H' 'H' 'H' 'H' '-'\n",
      " 'S' '-' '-' '-' 'S' '-' '-' '-' '-' '-' 'T' 'T' '-' 'H' 'H' 'H' 'H' 'H'\n",
      " 'H' 'H' 'H' 'H' 'H' 'S' 'T' 'T' 'T' 'S' '-' '-' '-' 'H' 'H' 'H' 'H' 'H'\n",
      " 'H' 'H' 'H' 'H' 'H' 'H' 'H' 'H' 'H' 'H' 'T' 'T' 'S' '-' 'S' '-' '-' '-'\n",
      " '-' '-' '-' '-' '-' '-' '-' '-' '-' '-' 'T' 'T' 'S' 'H' 'H' 'H' 'H' 'H'\n",
      " 'H' 'H' 'H' 'H' 'T' 'T' '-' '-' '-' '-' 'H' 'H' 'H' 'H' '-' '-' '-' '-'\n",
      " '-' '-' '-' '-' '-' '-' '-' '-' '-' '-' '-' '-' '-' '-' '-' '-' '-' '-'\n",
      " '-' '-' '-' '-' '-' '-' '-' '-' '-' '-' '-' '-' '-' '-' '-' '-' '-' '-'\n",
      " '-' '-' '-' '-' '-' '-' '-' '-' '-' '-' '-' '-' '-' '-' '-' '-' '-' '-'\n",
      " '-' '-' '-' '-' '-' '-' '-' '-' '-' '-' '-' '-' '-' '-' '-' '-' '-' '-'\n",
      " '-' '-' '-' '-' '-' '-' '-' '-' '-' '-' '-' '-' '-' '-' '-' '-' '-' '-'\n",
      " '-' '-' '-' '-' '-' '-' '-' '-' '-' '-' '-' '-' '-' '-' '-' '-' '-' '-'\n",
      " '-' '-' 'T' 'T' 'S' '-' '-' '-' '-' '-' '-' '-' '-' '-' '-' '-' '-' '-'\n",
      " '-' '-' '-' '-' '-' '-' '-' '-' '-' '-' '-' '-' '-' '-' '-' '-' '-' '-'\n",
      " '-' '-' '-' 'T' 'T' 'H' 'H' 'H' 'H' 'H' 'H' 'H' 'H' 'H' 'H' 'H' 'H' 'H'\n",
      " 'H' 'H' 'H' 'H' 'H' 'H' 'H' 'H' 'H' 'H' 'H' 'H' 'H' 'H' 'H' 'H' 'H' 'H'\n",
      " 'T' 'T' 'S' 'T' 'T' 'T' 'T' 'T' '-' 'T' 'T' '-' '-' 'H' 'H' 'H' 'H' 'H'\n",
      " 'H' 'H' 'H' 'H' 'H' 'H' 'H' 'H' 'H' 'H' 'H' 'H' 'H' 'H' 'H' 'H' 'H' 'H'\n",
      " 'H' 'H' 'H' 'H' 'H' 'H' 'H' 'H' 'H' 'H' 'H' 'H' 'H' 'H' 'H' 'H' 'H' 'H'\n",
      " 'H' 'H' 'H' 'H' 'H' '-' '-']\n"
     ]
    }
   ],
   "source": [
    "# Now write everything out\n",
    "# Feel free to change file name\n",
    "f_name = 'secondary_struc.csv'\n",
    "secstruc_data = []\n",
    "sec_struc_output = 0\n",
    "f = open(f_name, 'w')\n",
    "for p in pdbs_alpha:\n",
    "    sec_struc_output = get_sec_struct(p, '/Users/toni_brain/miniconda3/envs/dssp//bin/mkdssp')\n",
    "    print(sec_struc_output)\n",
    "    #check_alpha_helix_of_length_seven_or_more(sec_struc_output)\n",
    "    uniprot_id = p.split('-')[1]\n",
    "    f.write(uniprot_id+',')\n",
    "    for r in sec_struc_output:\n",
    "        f.write(r)\n",
    "    f.write('\\n')\n",
    "f.close()"
   ]
  },
  {
   "cell_type": "code",
   "execution_count": 122,
   "id": "33fa66d0",
   "metadata": {},
   "outputs": [],
   "source": [
    "helix_regions = get_alpha_helix_length_and_location(sec_struc_output)\n"
   ]
  },
  {
   "cell_type": "code",
   "execution_count": 106,
   "id": "26c25a09",
   "metadata": {},
   "outputs": [
    {
     "data": {
      "text/plain": [
       "439"
      ]
     },
     "execution_count": 106,
     "metadata": {},
     "output_type": "execute_result"
    }
   ],
   "source": [
    "len(sec_struc_output)"
   ]
  },
  {
   "cell_type": "markdown",
   "id": "9bf48956",
   "metadata": {},
   "source": [
    "## Playing around with loading json"
   ]
  },
  {
   "cell_type": "code",
   "execution_count": 43,
   "id": "5b53854c",
   "metadata": {},
   "outputs": [],
   "source": [
    "import json"
   ]
  },
  {
   "cell_type": "code",
   "execution_count": 44,
   "id": "53ab9ea0",
   "metadata": {},
   "outputs": [],
   "source": [
    "f = open('test.json')\n",
    "  \n",
    "# returns JSON object as \n",
    "# a dictionary\n",
    "data = json.load(f)"
   ]
  },
  {
   "cell_type": "code",
   "execution_count": 27,
   "id": "8d321652",
   "metadata": {},
   "outputs": [
    {
     "data": {
      "text/plain": [
       "dict_keys(['entryType', 'primaryAccession', 'secondaryAccessions', 'uniProtkbId', 'entryAudit', 'annotationScore', 'organism', 'proteinExistence', 'proteinDescription', 'genes', 'comments', 'features', 'keywords', 'references', 'uniProtKBCrossReferences', 'sequence', 'extraAttributes'])"
      ]
     },
     "execution_count": 27,
     "metadata": {},
     "output_type": "execute_result"
    }
   ],
   "source": [
    "data.keys()"
   ]
  },
  {
   "cell_type": "code",
   "execution_count": 45,
   "id": "fa6bc63c",
   "metadata": {},
   "outputs": [
    {
     "data": {
      "text/plain": [
       "'P01106'"
      ]
     },
     "execution_count": 45,
     "metadata": {},
     "output_type": "execute_result"
    }
   ],
   "source": [
    "data['primaryAccession']"
   ]
  },
  {
   "cell_type": "code",
   "execution_count": 127,
   "id": "88b775a1",
   "metadata": {},
   "outputs": [
    {
     "name": "stdout",
     "output_type": "stream",
     "text": [
      "354\n",
      "406\n"
     ]
    }
   ],
   "source": [
    "print(data['features'][1]['location']['start']['value'])\n",
    "print(data['features'][1]['location']['end']['value'])"
   ]
  },
  {
   "cell_type": "code",
   "execution_count": 128,
   "id": "08d9b0c7",
   "metadata": {},
   "outputs": [
    {
     "name": "stdout",
     "output_type": "stream",
     "text": [
      "Chain\n",
      "Domain\n",
      "{'type': 'Domain', 'location': {'start': {'value': 354, 'modifier': 'EXACT'}, 'end': {'value': 406, 'modifier': 'EXACT'}}, 'description': 'bHLH', 'evidences': [{'evidenceCode': 'ECO:0000255', 'source': 'PROSITE-ProRule', 'id': 'PRU00981'}]}\n",
      "Region\n",
      "{'type': 'Region', 'location': {'start': {'value': 204, 'modifier': 'EXACT'}, 'end': {'value': 295, 'modifier': 'EXACT'}}, 'description': 'Disordered', 'evidences': [{'evidenceCode': 'ECO:0000256', 'source': 'SAM', 'id': 'MobiDB-lite'}]}\n",
      "Region\n",
      "{'type': 'Region', 'location': {'start': {'value': 413, 'modifier': 'EXACT'}, 'end': {'value': 434, 'modifier': 'EXACT'}}, 'description': 'Leucine-zipper'}\n",
      "Motif\n",
      "{'type': 'Motif', 'location': {'start': {'value': 100, 'modifier': 'EXACT'}, 'end': {'value': 108, 'modifier': 'EXACT'}}, 'description': '9aaTAD', 'evidences': [{'evidenceCode': 'ECO:0000269', 'source': 'PubMed', 'id': '34342803'}]}\n",
      "Compositional bias\n",
      "Modified residue\n",
      "Modified residue\n",
      "Modified residue\n",
      "Modified residue\n",
      "Modified residue\n",
      "Modified residue\n",
      "Modified residue\n",
      "Modified residue\n",
      "Modified residue\n",
      "Modified residue\n",
      "Modified residue\n",
      "Modified residue\n",
      "Modified residue\n",
      "Modified residue\n",
      "Modified residue\n",
      "Glycosylation\n",
      "Cross-link\n",
      "Cross-link\n",
      "Cross-link\n",
      "Cross-link\n",
      "Alternative sequence\n",
      "Natural variant\n",
      "Natural variant\n",
      "Natural variant\n",
      "Natural variant\n",
      "Natural variant\n",
      "Natural variant\n",
      "Natural variant\n",
      "Natural variant\n",
      "Mutagenesis\n",
      "Mutagenesis\n",
      "Mutagenesis\n",
      "Mutagenesis\n",
      "Sequence conflict\n",
      "Sequence conflict\n",
      "Sequence conflict\n",
      "Sequence conflict\n",
      "Sequence conflict\n",
      "Sequence conflict\n",
      "Sequence conflict\n",
      "Sequence conflict\n",
      "Sequence conflict\n",
      "Sequence conflict\n",
      "Sequence conflict\n",
      "Sequence conflict\n",
      "Sequence conflict\n",
      "Helix\n",
      "{'type': 'Helix', 'location': {'start': {'value': 98, 'modifier': 'EXACT'}, 'end': {'value': 103, 'modifier': 'EXACT'}}, 'description': '', 'evidences': [{'evidenceCode': 'ECO:0007829', 'source': 'PDB', 'id': '6E16'}]}\n",
      "Helix\n",
      "{'type': 'Helix', 'location': {'start': {'value': 104, 'modifier': 'EXACT'}, 'end': {'value': 106, 'modifier': 'EXACT'}}, 'description': '', 'evidences': [{'evidenceCode': 'ECO:0007829', 'source': 'PDB', 'id': '6E16'}]}\n",
      "Helix\n",
      "{'type': 'Helix', 'location': {'start': {'value': 351, 'modifier': 'EXACT'}, 'end': {'value': 378, 'modifier': 'EXACT'}}, 'description': '', 'evidences': [{'evidenceCode': 'ECO:0007829', 'source': 'PDB', 'id': '6G6K'}]}\n",
      "Helix\n",
      "{'type': 'Helix', 'location': {'start': {'value': 382, 'modifier': 'EXACT'}, 'end': {'value': 384, 'modifier': 'EXACT'}}, 'description': '', 'evidences': [{'evidenceCode': 'ECO:0007829', 'source': 'PDB', 'id': '6G6K'}]}\n",
      "Helix\n",
      "{'type': 'Helix', 'location': {'start': {'value': 392, 'modifier': 'EXACT'}, 'end': {'value': 435, 'modifier': 'EXACT'}}, 'description': '', 'evidences': [{'evidenceCode': 'ECO:0007829', 'source': 'PDB', 'id': '6G6K'}]}\n",
      "Sequence conflict\n",
      "Sequence conflict\n"
     ]
    }
   ],
   "source": [
    "for d in data['features']:\n",
    "    print(d['type'])\n",
    "    if d['type'] == 'Domain':\n",
    "        print(d)\n",
    "    elif d['type'] == 'Region':\n",
    "        print(d)\n",
    "    elif d['type'] == 'Motif':\n",
    "        print(d)\n",
    "    elif d['type'] == 'Helix':\n",
    "        print(d)"
   ]
  },
  {
   "cell_type": "code",
   "execution_count": null,
   "id": "afa15534",
   "metadata": {},
   "outputs": [],
   "source": []
  }
 ],
 "metadata": {
  "kernelspec": {
   "display_name": "Python 3 (ipykernel)",
   "language": "python",
   "name": "python3"
  },
  "language_info": {
   "codemirror_mode": {
    "name": "ipython",
    "version": 3
   },
   "file_extension": ".py",
   "mimetype": "text/x-python",
   "name": "python",
   "nbconvert_exporter": "python",
   "pygments_lexer": "ipython3",
   "version": "3.11.0"
  }
 },
 "nbformat": 4,
 "nbformat_minor": 5
}
