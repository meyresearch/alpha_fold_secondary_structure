{
 "cells": [
  {
   "cell_type": "markdown",
   "id": "7b1c073a",
   "metadata": {},
   "source": [
    "# Extract secondary structure from PDB files easily and generate spreadsheet\n",
    "\n",
    "<a rel=\"license\" href=\"https://creativecommons.org/licenses/by-sa/4.0/\"><img alt=\"Creative Commons Licence\" style=\"border-width:0\" src=\"https://licensebuttons.net/l/by-sa/4.0/88x31.png\" title='This work is licensed under a Creative Commons Attribution 4.0 International License.' align=\"right\"/></a>\n",
    "\n",
    "Author: Dr Antonia Mey   \n",
    "Email: antonia.mey@ed.ac.uk"
   ]
  },
  {
   "cell_type": "code",
   "execution_count": 1,
   "id": "51210d5c",
   "metadata": {},
   "outputs": [],
   "source": [
    "# Imports\n",
    "import pandas as pd\n",
    "import numpy as np\n",
    "import glob \n",
    "import os\n",
    "import urllib\n",
    "from collections import Counter\n",
    "import urllib\n",
    "import json\n",
    "import matplotlib.pylab as plt"
   ]
  },
  {
   "cell_type": "code",
   "execution_count": 4,
   "id": "2ecdab83",
   "metadata": {},
   "outputs": [],
   "source": [
    "def get_domainn_region_info(data):\n",
    "    known_things = {}\n",
    "    known_things['Domain'] = []\n",
    "    known_things['Region'] = []\n",
    "    known_things['Motif'] = []\n",
    "    #known_things['Helix'] = []\n",
    "    if 'features' in data.keys():\n",
    "        for d in data['features']:\n",
    "            #print(d['type'])\n",
    "            if d['type'] == 'Domain':\n",
    "                known_things['Domain'].append([d['location']['start']['value'], d['location']['end']['value'], d['description']])            \n",
    "    return known_things       "
   ]
  },
  {
   "cell_type": "code",
   "execution_count": 5,
   "id": "40f7f19c-e8ec-4be7-a028-252214934076",
   "metadata": {},
   "outputs": [],
   "source": [
    "def feature_in_domain(domain_mask, start, end, percent_overlap=50):\n",
    "    second_bool_array = np.zeros(len(domain_mask), dtype=bool)\n",
    "    second_bool_array[start:end] = True\n",
    "    overlap = (np.sum(np.logical_and(domain_mask, second_bool_array)))\n",
    "    if overlap/(end-start)*100>=percent_overlap:\n",
    "        return True\n",
    "    else:\n",
    "        return False \n",
    "    "
   ]
  },
  {
   "cell_type": "code",
   "execution_count": 6,
   "id": "bdfa559e-380f-4c76-b5bf-2072e229866b",
   "metadata": {},
   "outputs": [],
   "source": [
    "def get_domain_mask(domain_dic, sequence_length):\n",
    "    bool_array =  np.zeros(sequence_length, dtype=bool)\n",
    "    for key in domain_dic.keys():\n",
    "        for entry in known_things[key]:\n",
    "            # print(f'checking entry {entry}')\n",
    "    \n",
    "            if entry[0] is None:\n",
    "                continue\n",
    "            elif entry[1] is None:\n",
    "                continue\n",
    "            bool_array[entry[0]-1:entry[1]] = True\n",
    "    return bool_array"
   ]
  },
  {
   "cell_type": "code",
   "execution_count": 7,
   "id": "6d75148c-74d7-4969-a534-e7c90252e691",
   "metadata": {},
   "outputs": [],
   "source": [
    "def get_domain_name(start, end, domain_dic):\n",
    "    for d in domain_dic['Domain']:\n",
    "        if (max(0, min(d[1], end) - max(d[0], start)))>0:\n",
    "            return d[2]"
   ]
  },
  {
   "cell_type": "markdown",
   "id": "16663482",
   "metadata": {},
   "source": [
    "## Testing things out"
   ]
  },
  {
   "cell_type": "code",
   "execution_count": 2,
   "id": "68f0044c",
   "metadata": {},
   "outputs": [],
   "source": [
    "# This is from the reviewed table from 2023\n",
    "f = open('data_idr/all_uni_prot_ids.txt', 'r')\n",
    "f_content = f.readlines()\n",
    "f.close()"
   ]
  },
  {
   "cell_type": "code",
   "execution_count": 22,
   "id": "42b3b2ac-26ef-478c-a545-404d486e199a",
   "metadata": {},
   "outputs": [],
   "source": [
    "f = open('uni_prot_ids/swissprot', 'r')\n",
    "f_content = f.readlines()\n",
    "f.close()"
   ]
  },
  {
   "cell_type": "code",
   "execution_count": 23,
   "id": "74ea2032",
   "metadata": {},
   "outputs": [],
   "source": [
    "ids = []\n",
    "for f in f_content:\n",
    "    ids.append(f.strip())"
   ]
  },
  {
   "cell_type": "code",
   "execution_count": 25,
   "id": "ceb56b2d",
   "metadata": {},
   "outputs": [],
   "source": [
    "fail_list = []\n",
    "verbose = False"
   ]
  },
  {
   "cell_type": "code",
   "execution_count": 26,
   "id": "16f14bdd-b6ab-4cf4-a622-4828b44cb98d",
   "metadata": {},
   "outputs": [],
   "source": [
    "# Process uniprot file\n",
    "f = open('unique_ids/Q8TAD8.json')\n",
    "data = json.load(f)\n",
    "f.close()\n",
    "\n",
    "# print('read json file successfully')\n",
    "\n",
    "# Some basics:\n",
    "# checking keys\n",
    "keys = data.keys()\n",
    "\n",
    "# Primary Accession\n",
    "uni_id = 'NA'\n",
    "if 'primaryAccession' in keys:\n",
    "    uni_id = data['primaryAccession'] \n",
    "    if verbose:\n",
    "         print('uni_id',uni_id)\n",
    "else: \n",
    "    print('Issue: No primary Accession found')\n",
    "\n",
    "# Genes\n",
    "gene_name = 'NA'\n",
    "if 'genes' in keys:\n",
    "    gene_name = data['genes'][0]['geneName']['value']\n",
    "    if verbose:\n",
    "        print('gene_name',gene_name)\n",
    "else:\n",
    "    print('Issue: No gene found found')"
   ]
  },
  {
   "cell_type": "code",
   "execution_count": 31,
   "id": "18adecc0-0068-44f1-bafa-15efc43ae7f7",
   "metadata": {},
   "outputs": [],
   "source": [
    "desired_features = ['Beta strand','Helix','Turn']\n",
    "\n",
    "# get domain inforamtion\n",
    "known_things = {}\n",
    "final_table_list = []   \n",
    "to_download = []\n",
    "#ids = ['Q8TAD8']            \n",
    "            \n",
    "# loop over all uniprot ids\n",
    "for i in range(len(ids)):\n",
    "#for i in range(20):\n",
    "    # Process uniprot file\n",
    "    fname = 'unique_ids/'+ids[i]+'.json'\n",
    "\n",
    "\n",
    "    if os.path.isfile(fname):\n",
    "        f = open(fname)\n",
    "        data = json.load(f)\n",
    "        f.close()\n",
    "\n",
    "        known_things = get_domainn_region_info(data)\n",
    "        #print(known_things)\n",
    "        \n",
    "        keys = data.keys()\n",
    "\n",
    "        sequence_length = data['sequence']['length']\n",
    "\n",
    "        # populate dictionary:\n",
    "        #print(f\"sequence length is: {sequence_length}\")\n",
    "        gene_name = 'NA'\n",
    "        if 'genes' in keys:\n",
    "            gene_name = data['genes'][0]['geneName']['value']\n",
    "            \n",
    "        #print(f\"gene name: {gene_name}\")\n",
    "        \n",
    "        uni_id = 'NA'\n",
    "        if 'primaryAccession' in keys:\n",
    "            uni_id = data['primaryAccession'] \n",
    "        #print('uni_id',uni_id)\n",
    "    \n",
    "\n",
    "        if 'features' in keys:\n",
    "            \n",
    "            # populate domain information\n",
    "            for d in data['features']:\n",
    "                #print(d['type'])\n",
    "                if d['type'] == 'Domain':\n",
    "                    known_things['Domain'].append([d['location']['start']['value'], d['location']['end']['value'], d['description']])\n",
    "            \n",
    "            domain_mask = get_domain_mask(known_things,sequence_length)\n",
    "\n",
    "            #if len(final_table_list)>0:\n",
    "            #    final_table_list[-1]['gap'] = final_table_list[-1]['sequence length']-final_table_list[-1]['end']\n",
    "            \n",
    "            # now check secondary structure features and if there is overlap\n",
    "            starts = []\n",
    "            ends = []\n",
    "            count = 0\n",
    "            gap = None\n",
    "            for f in data['features']:\n",
    "                if f['type'] in desired_features:\n",
    "                    final_table_dic = {}\n",
    "                    # print('=====New feature====')\n",
    "                    # print(f['type'])\n",
    "\n",
    "                    start = f['location']['start']['value']\n",
    "                    end = f['location']['end']['value']\n",
    "\n",
    "                    # Check if features is in domain\n",
    "                    if feature_in_domain(domain_mask, start, end, percent_overlap=50):\n",
    "                        domain_feature_overalp = 'Yes'\n",
    "                        domain_name = get_domain_name(start,end,known_things)\n",
    "                    else:\n",
    "                        domain_feature_overalp = 'No'  \n",
    "                        domain_name = 'None'\n",
    "                    \n",
    "\n",
    "                    if len(ends)>0:\n",
    "                        gap = start-ends[-1]\n",
    "                    #elif count == len(data['features'])-1:\n",
    "                    #    print('this happens')\n",
    "                    #    gap = (sequence_length-end)\n",
    "                    #else:\n",
    "                    #    gap = start\n",
    "                    feature_length = end - start\n",
    "                    final_table_dic['gene name'] = gene_name\n",
    "                    final_table_dic['Uniprot ID'] = uni_id\n",
    "                    final_table_dic['sequence length'] = sequence_length\n",
    "                    final_table_dic['Feature name'] = f['type']\n",
    "                    final_table_dic['start'] = start\n",
    "                    final_table_dic['end'] = end\n",
    "                    final_table_dic['length'] = feature_length\n",
    "                    if gap is None:\n",
    "                        final_table_dic['gap left'] = gap\n",
    "                    else:\n",
    "                        final_table_dic['gap left'] = int(gap)\n",
    "                    final_table_dic['Overlap with domain'] = domain_feature_overalp\n",
    "                    final_table_dic['Domain name'] = domain_name\n",
    "                    if verbose: \n",
    "                        print(f\"start: {start}\")\n",
    "                        print(f\"end: {end}\")\n",
    "                        print(f\"length: {feature_length}\")\n",
    "                        print(f\"gap: {gap}\")\n",
    "                        print(f\"Domain feature overlap: {domain_feature_overalp}\")\n",
    "                        print(f\"domain name: {domain_name}\")\n",
    "                    starts.append(start)\n",
    "                    ends.append(end)\n",
    "                    final_table_list.append(final_table_dic)\n",
    "                    count+=1\n",
    "            starts = np.array(starts)\n",
    "            ends = np.array(ends)\n",
    "            gaps = (starts[1:-1]-ends[0:-2])-1\n",
    "    else:\n",
    "        #print(f\"{fname} does not exist\")\n",
    "        to_download.append(ids[i])\n"
   ]
  },
  {
   "cell_type": "code",
   "execution_count": 33,
   "id": "0416d282-4dd3-4b59-b3bb-230b4c6cfdab",
   "metadata": {},
   "outputs": [
    {
     "data": {
      "text/plain": [
       "4207"
      ]
     },
     "execution_count": 33,
     "metadata": {},
     "output_type": "execute_result"
    }
   ],
   "source": [
    "len(to_download)"
   ]
  },
  {
   "cell_type": "code",
   "execution_count": 37,
   "id": "6227ea96-f8b7-4379-bd32-952891c5d4a2",
   "metadata": {},
   "outputs": [],
   "source": [
    "f = open('data_idr/missing_ids', 'w')\n",
    "for id in to_download:\n",
    "    f.write(id+'\\n')\n",
    "f.close()"
   ]
  },
  {
   "cell_type": "code",
   "execution_count": 27,
   "id": "3bd4c509-10cb-468f-9063-31cf1561a8cc",
   "metadata": {},
   "outputs": [],
   "source": [
    "df = pd.DataFrame(final_table_list)  "
   ]
  },
  {
   "cell_type": "code",
   "execution_count": 28,
   "id": "57cf577c-dd41-4556-a819-f9f6ab0ea40f",
   "metadata": {},
   "outputs": [
    {
     "data": {
      "text/html": [
       "<div>\n",
       "<style scoped>\n",
       "    .dataframe tbody tr th:only-of-type {\n",
       "        vertical-align: middle;\n",
       "    }\n",
       "\n",
       "    .dataframe tbody tr th {\n",
       "        vertical-align: top;\n",
       "    }\n",
       "\n",
       "    .dataframe thead th {\n",
       "        text-align: right;\n",
       "    }\n",
       "</style>\n",
       "<table border=\"1\" class=\"dataframe\">\n",
       "  <thead>\n",
       "    <tr style=\"text-align: right;\">\n",
       "      <th></th>\n",
       "      <th>gene name</th>\n",
       "      <th>Uniprot ID</th>\n",
       "      <th>sequence length</th>\n",
       "      <th>Feature name</th>\n",
       "      <th>start</th>\n",
       "      <th>end</th>\n",
       "      <th>length</th>\n",
       "      <th>gap left</th>\n",
       "      <th>Overlap with domain</th>\n",
       "      <th>Domain name</th>\n",
       "    </tr>\n",
       "  </thead>\n",
       "  <tbody>\n",
       "    <tr>\n",
       "      <th>0</th>\n",
       "      <td>TRBC2</td>\n",
       "      <td>A0A5B9</td>\n",
       "      <td>178</td>\n",
       "      <td>Helix</td>\n",
       "      <td>2</td>\n",
       "      <td>4</td>\n",
       "      <td>2</td>\n",
       "      <td>NaN</td>\n",
       "      <td>No</td>\n",
       "      <td>None</td>\n",
       "    </tr>\n",
       "    <tr>\n",
       "      <th>1</th>\n",
       "      <td>TRBC2</td>\n",
       "      <td>A0A5B9</td>\n",
       "      <td>178</td>\n",
       "      <td>Beta strand</td>\n",
       "      <td>9</td>\n",
       "      <td>14</td>\n",
       "      <td>5</td>\n",
       "      <td>5.0</td>\n",
       "      <td>Yes</td>\n",
       "      <td>Ig-like C1-type</td>\n",
       "    </tr>\n",
       "    <tr>\n",
       "      <th>2</th>\n",
       "      <td>TRBC2</td>\n",
       "      <td>A0A5B9</td>\n",
       "      <td>178</td>\n",
       "      <td>Helix</td>\n",
       "      <td>17</td>\n",
       "      <td>23</td>\n",
       "      <td>6</td>\n",
       "      <td>3.0</td>\n",
       "      <td>Yes</td>\n",
       "      <td>Ig-like C1-type</td>\n",
       "    </tr>\n",
       "    <tr>\n",
       "      <th>3</th>\n",
       "      <td>TRBC2</td>\n",
       "      <td>A0A5B9</td>\n",
       "      <td>178</td>\n",
       "      <td>Beta strand</td>\n",
       "      <td>24</td>\n",
       "      <td>38</td>\n",
       "      <td>14</td>\n",
       "      <td>1.0</td>\n",
       "      <td>Yes</td>\n",
       "      <td>Ig-like C1-type</td>\n",
       "    </tr>\n",
       "    <tr>\n",
       "      <th>4</th>\n",
       "      <td>TRBC2</td>\n",
       "      <td>A0A5B9</td>\n",
       "      <td>178</td>\n",
       "      <td>Beta strand</td>\n",
       "      <td>40</td>\n",
       "      <td>46</td>\n",
       "      <td>6</td>\n",
       "      <td>2.0</td>\n",
       "      <td>Yes</td>\n",
       "      <td>Ig-like C1-type</td>\n",
       "    </tr>\n",
       "    <tr>\n",
       "      <th>...</th>\n",
       "      <td>...</td>\n",
       "      <td>...</td>\n",
       "      <td>...</td>\n",
       "      <td>...</td>\n",
       "      <td>...</td>\n",
       "      <td>...</td>\n",
       "      <td>...</td>\n",
       "      <td>...</td>\n",
       "      <td>...</td>\n",
       "      <td>...</td>\n",
       "    </tr>\n",
       "    <tr>\n",
       "      <th>152900</th>\n",
       "      <td>RWDD2A</td>\n",
       "      <td>Q9UIY3</td>\n",
       "      <td>292</td>\n",
       "      <td>Beta strand</td>\n",
       "      <td>86</td>\n",
       "      <td>90</td>\n",
       "      <td>4</td>\n",
       "      <td>10.0</td>\n",
       "      <td>Yes</td>\n",
       "      <td>RWD</td>\n",
       "    </tr>\n",
       "    <tr>\n",
       "      <th>152901</th>\n",
       "      <td>RWDD2A</td>\n",
       "      <td>Q9UIY3</td>\n",
       "      <td>292</td>\n",
       "      <td>Beta strand</td>\n",
       "      <td>92</td>\n",
       "      <td>94</td>\n",
       "      <td>2</td>\n",
       "      <td>2.0</td>\n",
       "      <td>Yes</td>\n",
       "      <td>RWD</td>\n",
       "    </tr>\n",
       "    <tr>\n",
       "      <th>152902</th>\n",
       "      <td>RWDD2A</td>\n",
       "      <td>Q9UIY3</td>\n",
       "      <td>292</td>\n",
       "      <td>Helix</td>\n",
       "      <td>96</td>\n",
       "      <td>110</td>\n",
       "      <td>14</td>\n",
       "      <td>2.0</td>\n",
       "      <td>Yes</td>\n",
       "      <td>RWD</td>\n",
       "    </tr>\n",
       "    <tr>\n",
       "      <th>152903</th>\n",
       "      <td>RWDD2A</td>\n",
       "      <td>Q9UIY3</td>\n",
       "      <td>292</td>\n",
       "      <td>Helix</td>\n",
       "      <td>120</td>\n",
       "      <td>129</td>\n",
       "      <td>9</td>\n",
       "      <td>10.0</td>\n",
       "      <td>Yes</td>\n",
       "      <td>RWD</td>\n",
       "    </tr>\n",
       "    <tr>\n",
       "      <th>152904</th>\n",
       "      <td>RWDD2A</td>\n",
       "      <td>Q9UIY3</td>\n",
       "      <td>292</td>\n",
       "      <td>Helix</td>\n",
       "      <td>132</td>\n",
       "      <td>135</td>\n",
       "      <td>3</td>\n",
       "      <td>3.0</td>\n",
       "      <td>Yes</td>\n",
       "      <td>RWD</td>\n",
       "    </tr>\n",
       "  </tbody>\n",
       "</table>\n",
       "<p>152905 rows × 10 columns</p>\n",
       "</div>"
      ],
      "text/plain": [
       "       gene name Uniprot ID  sequence length Feature name  start  end  length  \\\n",
       "0          TRBC2     A0A5B9              178        Helix      2    4       2   \n",
       "1          TRBC2     A0A5B9              178  Beta strand      9   14       5   \n",
       "2          TRBC2     A0A5B9              178        Helix     17   23       6   \n",
       "3          TRBC2     A0A5B9              178  Beta strand     24   38      14   \n",
       "4          TRBC2     A0A5B9              178  Beta strand     40   46       6   \n",
       "...          ...        ...              ...          ...    ...  ...     ...   \n",
       "152900    RWDD2A     Q9UIY3              292  Beta strand     86   90       4   \n",
       "152901    RWDD2A     Q9UIY3              292  Beta strand     92   94       2   \n",
       "152902    RWDD2A     Q9UIY3              292        Helix     96  110      14   \n",
       "152903    RWDD2A     Q9UIY3              292        Helix    120  129       9   \n",
       "152904    RWDD2A     Q9UIY3              292        Helix    132  135       3   \n",
       "\n",
       "        gap left Overlap with domain      Domain name  \n",
       "0            NaN                  No             None  \n",
       "1            5.0                 Yes  Ig-like C1-type  \n",
       "2            3.0                 Yes  Ig-like C1-type  \n",
       "3            1.0                 Yes  Ig-like C1-type  \n",
       "4            2.0                 Yes  Ig-like C1-type  \n",
       "...          ...                 ...              ...  \n",
       "152900      10.0                 Yes              RWD  \n",
       "152901       2.0                 Yes              RWD  \n",
       "152902       2.0                 Yes              RWD  \n",
       "152903      10.0                 Yes              RWD  \n",
       "152904       3.0                 Yes              RWD  \n",
       "\n",
       "[152905 rows x 10 columns]"
      ]
     },
     "execution_count": 28,
     "metadata": {},
     "output_type": "execute_result"
    }
   ],
   "source": [
    "df"
   ]
  },
  {
   "cell_type": "code",
   "execution_count": 29,
   "id": "9b5c55a8-ed96-4015-9a88-99edcc02e2cb",
   "metadata": {},
   "outputs": [
    {
     "data": {
      "text/html": [
       "<div>\n",
       "<style scoped>\n",
       "    .dataframe tbody tr th:only-of-type {\n",
       "        vertical-align: middle;\n",
       "    }\n",
       "\n",
       "    .dataframe tbody tr th {\n",
       "        vertical-align: top;\n",
       "    }\n",
       "\n",
       "    .dataframe thead th {\n",
       "        text-align: right;\n",
       "    }\n",
       "</style>\n",
       "<table border=\"1\" class=\"dataframe\">\n",
       "  <thead>\n",
       "    <tr style=\"text-align: right;\">\n",
       "      <th></th>\n",
       "      <th>gene name</th>\n",
       "      <th>Uniprot ID</th>\n",
       "      <th>sequence length</th>\n",
       "      <th>Feature name</th>\n",
       "      <th>start</th>\n",
       "      <th>end</th>\n",
       "      <th>length</th>\n",
       "      <th>gap left</th>\n",
       "      <th>Overlap with domain</th>\n",
       "      <th>Domain name</th>\n",
       "    </tr>\n",
       "  </thead>\n",
       "  <tbody>\n",
       "  </tbody>\n",
       "</table>\n",
       "</div>"
      ],
      "text/plain": [
       "Empty DataFrame\n",
       "Columns: [gene name, Uniprot ID, sequence length, Feature name, start, end, length, gap left, Overlap with domain, Domain name]\n",
       "Index: []"
      ]
     },
     "execution_count": 29,
     "metadata": {},
     "output_type": "execute_result"
    }
   ],
   "source": [
    "df[df['Uniprot ID']=='P11309']"
   ]
  },
  {
   "cell_type": "code",
   "execution_count": 16,
   "id": "f18bac4a-a632-4e0d-8234-3313a5939948",
   "metadata": {},
   "outputs": [],
   "source": [
    "df.to_csv('all_human_28_03_24.csv', index=False)"
   ]
  },
  {
   "cell_type": "code",
   "execution_count": 16,
   "id": "70c8265b-acbe-4037-94d4-37111cce896f",
   "metadata": {},
   "outputs": [
    {
     "data": {
      "text/plain": [
       "<Axes: xlabel='gap left', ylabel='Count'>"
      ]
     },
     "execution_count": 16,
     "metadata": {},
     "output_type": "execute_result"
    },
    {
     "data": {
      "image/png": "[encoded data removed]",
      "text/plain": [
       "<Figure size 640x480 with 1 Axes>"
      ]
     },
     "metadata": {},
     "output_type": "display_data"
    }
   ],
   "source": [
    "import seaborn as sbn\n",
    "sbn.histplot(df['gap left'], bins=np.arange(700, 1400, 10), kde=False, color='skyblue')\n",
    "#plt.yscale('log')"
   ]
  },
  {
   "cell_type": "markdown",
   "id": "98a4782f-5146-43ce-96d4-5bccb7574f63",
   "metadata": {},
   "source": [
    "### Getting list of uniprot IDS that are expressed in cells"
   ]
  },
  {
   "cell_type": "code",
   "execution_count": 17,
   "id": "d9d084fc-f86d-4bbc-8a0d-ff1c66ca977d",
   "metadata": {},
   "outputs": [],
   "source": [
    "df = pd.read_csv('filtered_table_final_100223.csv')"
   ]
  },
  {
   "cell_type": "code",
   "execution_count": 183,
   "id": "3bdd938a-ed93-4d38-ac5a-ed5e25a65275",
   "metadata": {},
   "outputs": [],
   "source": [
    "selected_rows = df[df['HEK293T_expressed'] == 1]"
   ]
  },
  {
   "cell_type": "code",
   "execution_count": 20,
   "id": "95606a09-d83f-4189-847e-c949f4592c50",
   "metadata": {},
   "outputs": [],
   "source": [
    "selected_rows = df"
   ]
  },
  {
   "cell_type": "code",
   "execution_count": 21,
   "id": "c789bbe6-d670-4cf2-b0df-a87c5533ec50",
   "metadata": {},
   "outputs": [],
   "source": [
    "ids_to_be_used = selected_rows['uniprot_id'].values\n",
    "ids_to_be_used = np.unique(ids_to_be_used)\n",
    "f = open('data_idr/expressed_uni_prot_ids.txt','w')\n",
    "for uni in ids_to_be_used:\n",
    "    f.write(uni+'\\n')\n",
    "f.close()"
   ]
  },
  {
   "cell_type": "code",
   "execution_count": 22,
   "id": "e492ab23-8805-4d1a-80ef-d95080b8f54f",
   "metadata": {},
   "outputs": [],
   "source": [
    "## all of the data\n",
    "ids_to_be_used = df['uniprot_id'].values\n",
    "ids_to_be_used = np.unique(ids_to_be_used)\n",
    "f = open('data_idr/all_uni_prot_ids.txt','w')\n",
    "for uni in ids_to_be_used:\n",
    "    f.write(uni+'\\n')\n",
    "f.close()"
   ]
  },
  {
   "cell_type": "code",
   "execution_count": 21,
   "id": "ce0cf668-87d3-480c-9f9d-3f9bfa7733b2",
   "metadata": {},
   "outputs": [
    {
     "data": {
      "text/html": [
       "<div>\n",
       "<style scoped>\n",
       "    .dataframe tbody tr th:only-of-type {\n",
       "        vertical-align: middle;\n",
       "    }\n",
       "\n",
       "    .dataframe tbody tr th {\n",
       "        vertical-align: top;\n",
       "    }\n",
       "\n",
       "    .dataframe thead th {\n",
       "        text-align: right;\n",
       "    }\n",
       "</style>\n",
       "<table border=\"1\" class=\"dataframe\">\n",
       "  <thead>\n",
       "    <tr style=\"text-align: right;\">\n",
       "      <th></th>\n",
       "      <th>gene name</th>\n",
       "      <th>Uniprot ID</th>\n",
       "      <th>sequence length</th>\n",
       "      <th>Feature name</th>\n",
       "      <th>start</th>\n",
       "      <th>end</th>\n",
       "      <th>length</th>\n",
       "      <th>gap left</th>\n",
       "      <th>Overlap with domain</th>\n",
       "      <th>Domain name</th>\n",
       "    </tr>\n",
       "  </thead>\n",
       "  <tbody>\n",
       "  </tbody>\n",
       "</table>\n",
       "</div>"
      ],
      "text/plain": [
       "Empty DataFrame\n",
       "Columns: [gene name, Uniprot ID, sequence length, Feature name, start, end, length, gap left, Overlap with domain, Domain name]\n",
       "Index: []"
      ]
     },
     "execution_count": 21,
     "metadata": {},
     "output_type": "execute_result"
    }
   ],
   "source": [
    "df[df['Uniprot ID']=='P11309']"
   ]
  },
  {
   "cell_type": "code",
   "execution_count": null,
   "id": "5b774422-741a-4080-9efb-41753d882293",
   "metadata": {},
   "outputs": [],
   "source": []
  }
 ],
 "metadata": {
  "kernelspec": {
   "display_name": "Python 3 (ipykernel)",
   "language": "python",
   "name": "python3"
  },
  "language_info": {
   "codemirror_mode": {
    "name": "ipython",
    "version": 3
   },
   "file_extension": ".py",
   "mimetype": "text/x-python",
   "name": "python",
   "nbconvert_exporter": "python",
   "pygments_lexer": "ipython3",
   "version": "3.12.0"
  }
 },
 "nbformat": 4,
 "nbformat_minor": 5
}
