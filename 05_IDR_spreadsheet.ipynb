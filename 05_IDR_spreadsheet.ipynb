{
 "cells": [
  {
   "cell_type": "markdown",
   "id": "7b1c073a",
   "metadata": {},
   "source": [
    "# Extract secondary structure from PDB files easily and generate spreadsheet\n",
    "\n",
    "<a rel=\"license\" href=\"https://creativecommons.org/licenses/by-sa/4.0/\"><img alt=\"Creative Commons Licence\" style=\"border-width:0\" src=\"https://licensebuttons.net/l/by-sa/4.0/88x31.png\" title='This work is licensed under a Creative Commons Attribution 4.0 International License.' align=\"right\"/></a>\n",
    "\n",
    "Author: Dr Antonia Mey   \n",
    "Email: antonia.mey@ed.ac.uk"
   ]
  },
  {
   "cell_type": "code",
   "execution_count": 1,
   "id": "51210d5c",
   "metadata": {},
   "outputs": [],
   "source": [
    "# Imports\n",
    "import pandas as pd\n",
    "import numpy as np\n",
    "import glob \n",
    "import os\n",
    "import urllib\n",
    "from collections import Counter\n",
    "import urllib\n",
    "import json\n",
    "import matplotlib.pylab as plt"
   ]
  },
  {
   "cell_type": "code",
   "execution_count": 2,
   "id": "2ecdab83",
   "metadata": {},
   "outputs": [],
   "source": [
    "def get_domainn_region_info(data):\n",
    "    known_things = {}\n",
    "    known_things['Domain'] = []\n",
    "    known_things['Region'] = []\n",
    "    known_things['Motif'] = []\n",
    "    #known_things['Helix'] = []\n",
    "    if 'features' in data.keys():\n",
    "        for d in data['features']:\n",
    "            #print(d['type'])\n",
    "            if d['type'] == 'Domain':\n",
    "                known_things['Domain'].append([d['location']['start']['value'], d['location']['end']['value'], d['description']])            \n",
    "    return known_things       "
   ]
  },
  {
   "cell_type": "code",
   "execution_count": 3,
   "id": "40f7f19c-e8ec-4be7-a028-252214934076",
   "metadata": {},
   "outputs": [],
   "source": [
    "def feature_in_domain(domain_mask, start, end, percent_overlap=50):\n",
    "    second_bool_array = np.zeros(len(domain_mask), dtype=bool)\n",
    "    second_bool_array[start:end] = True\n",
    "    overlap = (np.sum(np.logical_and(domain_mask, second_bool_array)))\n",
    "    if overlap/(end-start)*100>=percent_overlap:\n",
    "        return True\n",
    "    else:\n",
    "        return False \n",
    "    "
   ]
  },
  {
   "cell_type": "code",
   "execution_count": 4,
   "id": "bdfa559e-380f-4c76-b5bf-2072e229866b",
   "metadata": {},
   "outputs": [],
   "source": [
    "def get_domain_mask(domain_dic, sequence_length):\n",
    "    bool_array =  np.zeros(sequence_length, dtype=bool)\n",
    "    for key in domain_dic.keys():\n",
    "        for entry in known_things[key]:\n",
    "            # print(f'checking entry {entry}')\n",
    "    \n",
    "            if entry[0] is None:\n",
    "                continue\n",
    "            elif entry[1] is None:\n",
    "                continue\n",
    "            bool_array[entry[0]-1:entry[1]] = True\n",
    "    return bool_array"
   ]
  },
  {
   "cell_type": "code",
   "execution_count": 5,
   "id": "6d75148c-74d7-4969-a534-e7c90252e691",
   "metadata": {},
   "outputs": [],
   "source": [
    "def get_domain_name(start, end, domain_dic):\n",
    "    for d in domain_dic['Domain']:\n",
    "        if (max(0, min(d[1], end) - max(d[0], start)))>0:\n",
    "            return d[2]"
   ]
  },
  {
   "cell_type": "markdown",
   "id": "16663482",
   "metadata": {},
   "source": [
    "## Testing things out"
   ]
  },
  {
   "cell_type": "code",
   "execution_count": 6,
   "id": "68f0044c",
   "metadata": {},
   "outputs": [],
   "source": [
    "# This is from the reviewed table from 2023\n",
    "f = open('data_idr/all_uni_prot_ids.txt', 'r')\n",
    "f_content = f.readlines()\n",
    "f.close()"
   ]
  },
  {
   "cell_type": "code",
   "execution_count": 91,
   "id": "42b3b2ac-26ef-478c-a545-404d486e199a",
   "metadata": {},
   "outputs": [],
   "source": [
    "f = open('uni_prot_ids/swissprot', 'r')\n",
    "f_content = f.readlines()\n",
    "f.close()"
   ]
  },
  {
   "cell_type": "code",
   "execution_count": 92,
   "id": "74ea2032",
   "metadata": {},
   "outputs": [],
   "source": [
    "ids = []\n",
    "for f in f_content:\n",
    "    ids.append(f.strip())"
   ]
  },
  {
   "cell_type": "code",
   "execution_count": 9,
   "id": "ceb56b2d",
   "metadata": {},
   "outputs": [],
   "source": [
    "fail_list = []\n",
    "verbose = False"
   ]
  },
  {
   "cell_type": "code",
   "execution_count": 10,
   "id": "16f14bdd-b6ab-4cf4-a622-4828b44cb98d",
   "metadata": {},
   "outputs": [],
   "source": [
    "# Process uniprot file\n",
    "f = open('unique_ids/Q8TAD8.json')\n",
    "data = json.load(f)\n",
    "f.close()\n",
    "\n",
    "# print('read json file successfully')\n",
    "\n",
    "# Some basics:\n",
    "# checking keys\n",
    "keys = data.keys()\n",
    "\n",
    "# Primary Accession\n",
    "uni_id = 'NA'\n",
    "if 'primaryAccession' in keys:\n",
    "    uni_id = data['primaryAccession'] \n",
    "    if verbose:\n",
    "         print('uni_id',uni_id)\n",
    "else: \n",
    "    print('Issue: No primary Accession found')\n",
    "\n",
    "# Genes\n",
    "gene_name = 'NA'\n",
    "if 'genes' in keys:\n",
    "    gene_name = data['genes'][0]['geneName']['value']\n",
    "    if verbose:\n",
    "        print('gene_name',gene_name)\n",
    "else:\n",
    "    print('Issue: No gene found found')"
   ]
  },
  {
   "cell_type": "code",
   "execution_count": 11,
   "id": "048497a3-b11f-4729-8546-8fdf1f3a50d3",
   "metadata": {},
   "outputs": [],
   "source": [
    "def populate_as_occurances(sequence, domain_name):\n",
    "    # initalise AS count dictionary\n",
    "    as_count = {}\n",
    "    as_count['A'] = 0\n",
    "    as_count['B'] = 0\n",
    "    as_count['C'] = 0\n",
    "    as_count['D'] = 0\n",
    "    as_count['E'] = 0\n",
    "    as_count['F'] = 0\n",
    "    as_count['G'] = 0\n",
    "    as_count['H'] = 0\n",
    "    as_count['I'] = 0\n",
    "    as_count['K'] = 0\n",
    "    as_count['L'] = 0\n",
    "    as_count['M'] = 0\n",
    "    as_count['N'] = 0\n",
    "    as_count['P'] = 0\n",
    "    as_count['Q'] = 0\n",
    "    as_count['R'] = 0\n",
    "    as_count['S'] = 0\n",
    "    as_count['T'] = 0\n",
    "    as_count['V'] = 0\n",
    "    as_count['W'] = 0\n",
    "    as_count['Y'] = 0\n",
    "    as_count['Z'] = 0\n",
    "    res = Counter(sequence)\n",
    "    for key in res.keys():\n",
    "        as_count[key] = res[key]\n",
    "    return as_count\n",
    "\n"
   ]
  },
  {
   "cell_type": "code",
   "execution_count": 98,
   "id": "18adecc0-0068-44f1-bafa-15efc43ae7f7",
   "metadata": {},
   "outputs": [
    {
     "name": "stdout",
     "output_type": "stream",
     "text": [
      "{'Domain': [[191, 370, 'SMP-LTD'], [369, 489, 'C2 1'], [514, 639, 'C2 2'], [786, 908, 'C2 3']], 'Region': [], 'Motif': []}\n",
      "MTANRDAALSSHRHPGCAQRPRTPTFASSSQRRSAFGFDDGNFPGLGERSHAPGSRLGARRRAKTARGLRGHRQRGAGAGLSRPGSARAPSPPRPGGPENPGGVLSVELPGLLAQLARSFALLLPVYALGYLGLSFSWVLLALALLAWCRRSRGLKALRLCRALALLEDEERVVRLGVRACDLPAWVHFPDTERAEWLNKTVKHMWPFICQFIEKLFRETIEPAVRGANTHLSTFSFTKVDVGQQPLRINGVKVYTENVDKRQIILDLQISFVGNCEIDLEIKRYFCRAGVKSIQIHGTMRVILEPLIGDMPLVGALSIFFLRKPLLEINWTGLTNLLDVPGLNGLSDTIILDIISNYLVLPNRITVPLVSEVQIAQLRFPVPKGVLRIHFIEAQDLQGKDTYLKGLVKGKSDPYGIIRVGNQIFQSRVIKENLSPKWNEVYEALVYEHPGQELEIELFDEDPDKDDFLGSLMIDLIEVEKERLLDEWFTLDEVPKGKLHLRLEWLTLMPNASNLDKVLTDIKADKDQANDGLSSALLILYLDSARNLPSGKKISSNPNPVVQMSVGHKAQESKIRYKTNEPVWEENFTFFIHNPKRQDLEVEVRDEQHQCSLGNLKVPLSQLLTSEDMTVSQRFQLSNSGPNSTIKMKIALRVLHLEKRERPPDHQHSAQVKRPSVSKEGRKTSIKSHMSGSPGPGGSNTAPSTPVIGGSDKPGMEEKAQPPEAGPQGLHDLGRSSSSLLASPGHISVKEPTPSIASDISLPIATQELRQRLRQLENGTTLGQSPLGQIQLTIRHSSQRNKLIVVVHACRNLIAFSEDGSDPYVRMYLLPDKRRSGRRKTHVSKKTLNPVFDQSFDFSVSLPEVQRRTLDVAVKNSGGFLSKDKGLLGKVLVALASEELAKGWTQWYDLTEDGTRPQAMT\n",
      "{'gene name': 'ESYT2', 'Uniprot ID': 'A0FGR8', 'sequence length': 921, 'Feature name': 'Helix', 'start': 196, 'end': 219, 'length': 23, 'gap left': None, 'Overlap with domain': 'Yes', 'Domain name': 'SMP-LTD', 'Domain start': 191, 'domain end': 370, 'A': 0, 'B': 0, 'C': 1, 'D': 0, 'E': 2, 'F': 3, 'G': 0, 'H': 1, 'I': 2, 'K': 3, 'L': 2, 'M': 1, 'N': 1, 'P': 1, 'Q': 1, 'R': 1, 'S': 0, 'T': 1, 'V': 1, 'W': 2, 'Y': 0, 'Z': 0}\n",
      "{'gene name': 'ESYT2', 'Uniprot ID': 'A0FGR8', 'sequence length': 921, 'Feature name': 'Helix', 'start': 221, 'end': 226, 'length': 5, 'gap left': 2, 'Overlap with domain': 'Yes', 'Domain name': 'SMP-LTD', 'Domain start': 191, 'domain end': 370, 'A': 1, 'B': 0, 'C': 0, 'D': 0, 'E': 1, 'F': 0, 'G': 0, 'H': 0, 'I': 1, 'K': 0, 'L': 0, 'M': 0, 'N': 0, 'P': 1, 'Q': 0, 'R': 0, 'S': 0, 'T': 0, 'V': 1, 'W': 0, 'Y': 0, 'Z': 0}\n",
      "{'gene name': 'ESYT2', 'Uniprot ID': 'A0FGR8', 'sequence length': 921, 'Feature name': 'Helix', 'start': 230, 'end': 232, 'length': 2, 'gap left': 4, 'Overlap with domain': 'Yes', 'Domain name': 'SMP-LTD', 'Domain start': 191, 'domain end': 370, 'A': 0, 'B': 0, 'C': 0, 'D': 0, 'E': 0, 'F': 0, 'G': 0, 'H': 1, 'I': 0, 'K': 0, 'L': 0, 'M': 0, 'N': 0, 'P': 0, 'Q': 0, 'R': 0, 'S': 0, 'T': 1, 'V': 0, 'W': 0, 'Y': 0, 'Z': 0}\n",
      "{'gene name': 'ESYT2', 'Uniprot ID': 'A0FGR8', 'sequence length': 921, 'Feature name': 'Beta strand', 'start': 235, 'end': 241, 'length': 6, 'gap left': 3, 'Overlap with domain': 'Yes', 'Domain name': 'SMP-LTD', 'Domain start': 191, 'domain end': 370, 'A': 0, 'B': 0, 'C': 0, 'D': 0, 'E': 0, 'F': 2, 'G': 0, 'H': 0, 'I': 0, 'K': 1, 'L': 0, 'M': 0, 'N': 0, 'P': 0, 'Q': 0, 'R': 0, 'S': 1, 'T': 1, 'V': 1, 'W': 0, 'Y': 0, 'Z': 0}\n",
      "{'gene name': 'ESYT2', 'Uniprot ID': 'A0FGR8', 'sequence length': 921, 'Feature name': 'Beta strand', 'start': 248, 'end': 255, 'length': 7, 'gap left': 7, 'Overlap with domain': 'Yes', 'Domain name': 'SMP-LTD', 'Domain start': 191, 'domain end': 370, 'A': 0, 'B': 0, 'C': 0, 'D': 0, 'E': 0, 'F': 0, 'G': 1, 'H': 0, 'I': 1, 'K': 1, 'L': 0, 'M': 0, 'N': 1, 'P': 0, 'Q': 0, 'R': 1, 'S': 0, 'T': 0, 'V': 2, 'W': 0, 'Y': 0, 'Z': 0}\n",
      "{'gene name': 'ESYT2', 'Uniprot ID': 'A0FGR8', 'sequence length': 921, 'Feature name': 'Beta strand', 'start': 264, 'end': 282, 'length': 18, 'gap left': 9, 'Overlap with domain': 'Yes', 'Domain name': 'SMP-LTD', 'Domain start': 191, 'domain end': 370, 'A': 0, 'B': 0, 'C': 1, 'D': 2, 'E': 2, 'F': 1, 'G': 1, 'H': 0, 'I': 4, 'K': 0, 'L': 3, 'M': 0, 'N': 1, 'P': 0, 'Q': 1, 'R': 0, 'S': 1, 'T': 0, 'V': 1, 'W': 0, 'Y': 0, 'Z': 0}\n",
      "{'gene name': 'ESYT2', 'Uniprot ID': 'A0FGR8', 'sequence length': 921, 'Feature name': 'Turn', 'start': 283, 'end': 286, 'length': 3, 'gap left': 1, 'Overlap with domain': 'Yes', 'Domain name': 'SMP-LTD', 'Domain start': 191, 'domain end': 370, 'A': 0, 'B': 0, 'C': 0, 'D': 0, 'E': 0, 'F': 0, 'G': 0, 'H': 0, 'I': 0, 'K': 1, 'L': 0, 'M': 0, 'N': 0, 'P': 0, 'Q': 0, 'R': 1, 'S': 0, 'T': 0, 'V': 0, 'W': 0, 'Y': 1, 'Z': 0}\n",
      "{'gene name': 'ESYT2', 'Uniprot ID': 'A0FGR8', 'sequence length': 921, 'Feature name': 'Beta strand', 'start': 287, 'end': 304, 'length': 17, 'gap left': 1, 'Overlap with domain': 'Yes', 'Domain name': 'SMP-LTD', 'Domain start': 191, 'domain end': 370, 'A': 1, 'B': 0, 'C': 1, 'D': 0, 'E': 0, 'F': 0, 'G': 2, 'H': 1, 'I': 3, 'K': 1, 'L': 0, 'M': 1, 'N': 0, 'P': 0, 'Q': 1, 'R': 2, 'S': 1, 'T': 1, 'V': 2, 'W': 0, 'Y': 0, 'Z': 0}\n",
      "{'gene name': 'ESYT2', 'Uniprot ID': 'A0FGR8', 'sequence length': 921, 'Feature name': 'Beta strand', 'start': 316, 'end': 323, 'length': 7, 'gap left': 12, 'Overlap with domain': 'Yes', 'Domain name': 'SMP-LTD', 'Domain start': 191, 'domain end': 370, 'A': 1, 'B': 0, 'C': 0, 'D': 0, 'E': 0, 'F': 2, 'G': 0, 'H': 0, 'I': 1, 'K': 0, 'L': 2, 'M': 0, 'N': 0, 'P': 0, 'Q': 0, 'R': 0, 'S': 1, 'T': 0, 'V': 0, 'W': 0, 'Y': 0, 'Z': 0}\n",
      "{'gene name': 'ESYT2', 'Uniprot ID': 'A0FGR8', 'sequence length': 921, 'Feature name': 'Beta strand', 'start': 326, 'end': 333, 'length': 7, 'gap left': 3, 'Overlap with domain': 'Yes', 'Domain name': 'SMP-LTD', 'Domain start': 191, 'domain end': 370, 'A': 0, 'B': 0, 'C': 0, 'D': 0, 'E': 1, 'F': 0, 'G': 0, 'H': 0, 'I': 1, 'K': 0, 'L': 2, 'M': 0, 'N': 1, 'P': 0, 'Q': 0, 'R': 0, 'S': 0, 'T': 1, 'V': 0, 'W': 1, 'Y': 0, 'Z': 0}\n",
      "{'gene name': 'ESYT2', 'Uniprot ID': 'A0FGR8', 'sequence length': 921, 'Feature name': 'Helix', 'start': 334, 'end': 337, 'length': 3, 'gap left': 1, 'Overlap with domain': 'Yes', 'Domain name': 'SMP-LTD', 'Domain start': 191, 'domain end': 370, 'A': 0, 'B': 0, 'C': 0, 'D': 0, 'E': 0, 'F': 0, 'G': 0, 'H': 0, 'I': 0, 'K': 0, 'L': 1, 'M': 0, 'N': 1, 'P': 0, 'Q': 0, 'R': 0, 'S': 0, 'T': 1, 'V': 0, 'W': 0, 'Y': 0, 'Z': 0}\n",
      "{'gene name': 'ESYT2', 'Uniprot ID': 'A0FGR8', 'sequence length': 921, 'Feature name': 'Turn', 'start': 341, 'end': 345, 'length': 4, 'gap left': 4, 'Overlap with domain': 'Yes', 'Domain name': 'SMP-LTD', 'Domain start': 191, 'domain end': 370, 'A': 0, 'B': 0, 'C': 0, 'D': 0, 'E': 0, 'F': 0, 'G': 1, 'H': 0, 'I': 0, 'K': 0, 'L': 1, 'M': 0, 'N': 1, 'P': 1, 'Q': 0, 'R': 0, 'S': 0, 'T': 0, 'V': 0, 'W': 0, 'Y': 0, 'Z': 0}\n",
      "{'gene name': 'ESYT2', 'Uniprot ID': 'A0FGR8', 'sequence length': 921, 'Feature name': 'Helix', 'start': 348, 'end': 358, 'length': 10, 'gap left': 3, 'Overlap with domain': 'Yes', 'Domain name': 'SMP-LTD', 'Domain start': 191, 'domain end': 370, 'A': 0, 'B': 0, 'C': 0, 'D': 2, 'E': 0, 'F': 0, 'G': 0, 'H': 0, 'I': 4, 'K': 0, 'L': 1, 'M': 0, 'N': 1, 'P': 0, 'Q': 0, 'R': 0, 'S': 1, 'T': 1, 'V': 0, 'W': 0, 'Y': 0, 'Z': 0}\n",
      "{'gene name': 'ESYT2', 'Uniprot ID': 'A0FGR8', 'sequence length': 921, 'Feature name': 'Beta strand', 'start': 365, 'end': 370, 'length': 5, 'gap left': 7, 'Overlap with domain': 'Yes', 'Domain name': 'SMP-LTD', 'Domain start': 191, 'domain end': 370, 'A': 0, 'B': 0, 'C': 0, 'D': 0, 'E': 0, 'F': 0, 'G': 0, 'H': 0, 'I': 1, 'K': 0, 'L': 1, 'M': 0, 'N': 0, 'P': 1, 'Q': 0, 'R': 0, 'S': 0, 'T': 1, 'V': 1, 'W': 0, 'Y': 0, 'Z': 0}\n",
      "{'gene name': 'ESYT2', 'Uniprot ID': 'A0FGR8', 'sequence length': 921, 'Feature name': 'Helix', 'start': 372, 'end': 379, 'length': 7, 'gap left': 2, 'Overlap with domain': 'Yes', 'Domain name': 'C2 1', 'Domain start': 191, 'domain end': 370, 'A': 1, 'B': 0, 'C': 0, 'D': 0, 'E': 1, 'F': 0, 'G': 0, 'H': 0, 'I': 1, 'K': 0, 'L': 1, 'M': 0, 'N': 0, 'P': 0, 'Q': 2, 'R': 0, 'S': 0, 'T': 0, 'V': 1, 'W': 0, 'Y': 0, 'Z': 0}\n",
      "{'gene name': 'ESYT2', 'Uniprot ID': 'A0FGR8', 'sequence length': 921, 'Feature name': 'Beta strand', 'start': 384, 'end': 396, 'length': 12, 'gap left': 5, 'Overlap with domain': 'Yes', 'Domain name': 'C2 1', 'Domain start': 191, 'domain end': 370, 'A': 1, 'B': 0, 'C': 0, 'D': 0, 'E': 1, 'F': 1, 'G': 1, 'H': 1, 'I': 2, 'K': 1, 'L': 1, 'M': 0, 'N': 0, 'P': 0, 'Q': 1, 'R': 1, 'S': 0, 'T': 0, 'V': 1, 'W': 0, 'Y': 0, 'Z': 0}\n",
      "{'gene name': 'ESYT2', 'Uniprot ID': 'A0FGR8', 'sequence length': 921, 'Feature name': 'Turn', 'start': 405, 'end': 407, 'length': 2, 'gap left': 9, 'Overlap with domain': 'Yes', 'Domain name': 'C2 1', 'Domain start': 191, 'domain end': 370, 'A': 0, 'B': 0, 'C': 0, 'D': 0, 'E': 0, 'F': 0, 'G': 1, 'H': 0, 'I': 0, 'K': 1, 'L': 0, 'M': 0, 'N': 0, 'P': 0, 'Q': 0, 'R': 0, 'S': 0, 'T': 0, 'V': 0, 'W': 0, 'Y': 0, 'Z': 0}\n",
      "{'gene name': 'ESYT2', 'Uniprot ID': 'A0FGR8', 'sequence length': 921, 'Feature name': 'Beta strand', 'start': 414, 'end': 420, 'length': 6, 'gap left': 7, 'Overlap with domain': 'Yes', 'Domain name': 'C2 1', 'Domain start': 191, 'domain end': 370, 'A': 0, 'B': 0, 'C': 0, 'D': 0, 'E': 0, 'F': 0, 'G': 1, 'H': 0, 'I': 2, 'K': 0, 'L': 0, 'M': 0, 'N': 0, 'P': 1, 'Q': 0, 'R': 1, 'S': 0, 'T': 0, 'V': 0, 'W': 0, 'Y': 1, 'Z': 0}\n",
      "{'gene name': 'ESYT2', 'Uniprot ID': 'A0FGR8', 'sequence length': 921, 'Feature name': 'Beta strand', 'start': 423, 'end': 426, 'length': 3, 'gap left': 3, 'Overlap with domain': 'Yes', 'Domain name': 'C2 1', 'Domain start': 191, 'domain end': 370, 'A': 0, 'B': 0, 'C': 0, 'D': 0, 'E': 0, 'F': 1, 'G': 0, 'H': 0, 'I': 1, 'K': 0, 'L': 0, 'M': 0, 'N': 0, 'P': 0, 'Q': 1, 'R': 0, 'S': 0, 'T': 0, 'V': 0, 'W': 0, 'Y': 0, 'Z': 0}\n",
      "{'gene name': 'ESYT2', 'Uniprot ID': 'A0FGR8', 'sequence length': 921, 'Feature name': 'Beta strand', 'start': 437, 'end': 446, 'length': 9, 'gap left': 11, 'Overlap with domain': 'Yes', 'Domain name': 'C2 1', 'Domain start': 191, 'domain end': 370, 'A': 1, 'B': 0, 'C': 0, 'D': 0, 'E': 2, 'F': 0, 'G': 0, 'H': 0, 'I': 0, 'K': 1, 'L': 1, 'M': 0, 'N': 1, 'P': 0, 'Q': 0, 'R': 0, 'S': 0, 'T': 0, 'V': 1, 'W': 1, 'Y': 1, 'Z': 0}\n",
      "{'gene name': 'ESYT2', 'Uniprot ID': 'A0FGR8', 'sequence length': 921, 'Feature name': 'Beta strand', 'start': 453, 'end': 460, 'length': 7, 'gap left': 7, 'Overlap with domain': 'Yes', 'Domain name': 'C2 1', 'Domain start': 191, 'domain end': 370, 'A': 0, 'B': 0, 'C': 0, 'D': 0, 'E': 3, 'F': 1, 'G': 0, 'H': 0, 'I': 1, 'K': 0, 'L': 2, 'M': 0, 'N': 0, 'P': 0, 'Q': 0, 'R': 0, 'S': 0, 'T': 0, 'V': 0, 'W': 0, 'Y': 0, 'Z': 0}\n",
      "{'gene name': 'ESYT2', 'Uniprot ID': 'A0FGR8', 'sequence length': 921, 'Feature name': 'Beta strand', 'start': 463, 'end': 465, 'length': 2, 'gap left': 3, 'Overlap with domain': 'Yes', 'Domain name': 'C2 1', 'Domain start': 191, 'domain end': 370, 'A': 0, 'B': 0, 'C': 0, 'D': 1, 'E': 0, 'F': 0, 'G': 0, 'H': 0, 'I': 0, 'K': 0, 'L': 0, 'M': 0, 'N': 0, 'P': 1, 'Q': 0, 'R': 0, 'S': 0, 'T': 0, 'V': 0, 'W': 0, 'Y': 0, 'Z': 0}\n",
      "{'gene name': 'ESYT2', 'Uniprot ID': 'A0FGR8', 'sequence length': 921, 'Feature name': 'Beta strand', 'start': 467, 'end': 475, 'length': 8, 'gap left': 2, 'Overlap with domain': 'Yes', 'Domain name': 'C2 1', 'Domain start': 191, 'domain end': 370, 'A': 0, 'B': 0, 'C': 0, 'D': 1, 'E': 0, 'F': 1, 'G': 1, 'H': 0, 'I': 1, 'K': 0, 'L': 2, 'M': 1, 'N': 0, 'P': 0, 'Q': 0, 'R': 0, 'S': 1, 'T': 0, 'V': 0, 'W': 0, 'Y': 0, 'Z': 0}\n",
      "{'gene name': 'ESYT2', 'Uniprot ID': 'A0FGR8', 'sequence length': 921, 'Feature name': 'Helix', 'start': 476, 'end': 482, 'length': 6, 'gap left': 1, 'Overlap with domain': 'Yes', 'Domain name': 'C2 1', 'Domain start': 191, 'domain end': 370, 'A': 0, 'B': 0, 'C': 0, 'D': 0, 'E': 2, 'F': 0, 'G': 0, 'H': 0, 'I': 1, 'K': 1, 'L': 1, 'M': 0, 'N': 0, 'P': 0, 'Q': 0, 'R': 0, 'S': 0, 'T': 0, 'V': 1, 'W': 0, 'Y': 0, 'Z': 0}\n",
      "{'gene name': 'ESYT2', 'Uniprot ID': 'A0FGR8', 'sequence length': 921, 'Feature name': 'Beta strand', 'start': 483, 'end': 490, 'length': 7, 'gap left': 1, 'Overlap with domain': 'Yes', 'Domain name': 'C2 1', 'Domain start': 191, 'domain end': 370, 'A': 0, 'B': 0, 'C': 0, 'D': 1, 'E': 1, 'F': 1, 'G': 0, 'H': 0, 'I': 0, 'K': 0, 'L': 2, 'M': 0, 'N': 0, 'P': 0, 'Q': 0, 'R': 1, 'S': 0, 'T': 0, 'V': 0, 'W': 1, 'Y': 0, 'Z': 0}\n",
      "{'gene name': 'ESYT2', 'Uniprot ID': 'A0FGR8', 'sequence length': 921, 'Feature name': 'Beta strand', 'start': 494, 'end': 496, 'length': 2, 'gap left': 4, 'Overlap with domain': 'No', 'Domain name': 'None', 'Domain start': 'None', 'domain end': 'None', 'A': 0, 'B': 0, 'C': 0, 'D': 0, 'E': 0, 'F': 0, 'G': 0, 'H': 0, 'I': 0, 'K': 0, 'L': 0, 'M': 0, 'N': 0, 'P': 1, 'Q': 0, 'R': 0, 'S': 0, 'T': 0, 'V': 1, 'W': 0, 'Y': 0, 'Z': 0}\n",
      "{'gene name': 'ESYT2', 'Uniprot ID': 'A0FGR8', 'sequence length': 921, 'Feature name': 'Beta strand', 'start': 498, 'end': 512, 'length': 14, 'gap left': 2, 'Overlap with domain': 'No', 'Domain name': 'None', 'Domain start': 'None', 'domain end': 'None', 'A': 0, 'B': 0, 'C': 0, 'D': 0, 'E': 1, 'F': 0, 'G': 0, 'H': 1, 'I': 0, 'K': 1, 'L': 5, 'M': 1, 'N': 1, 'P': 1, 'Q': 0, 'R': 1, 'S': 0, 'T': 1, 'V': 0, 'W': 1, 'Y': 0, 'Z': 0}\n",
      "{'gene name': 'ESYT2', 'Uniprot ID': 'A0FGR8', 'sequence length': 921, 'Feature name': 'Helix', 'start': 515, 'end': 524, 'length': 9, 'gap left': 3, 'Overlap with domain': 'Yes', 'Domain name': 'C2 2', 'Domain start': 191, 'domain end': 370, 'A': 0, 'B': 0, 'C': 0, 'D': 2, 'E': 0, 'F': 0, 'G': 0, 'H': 0, 'I': 1, 'K': 2, 'L': 2, 'M': 0, 'N': 0, 'P': 0, 'Q': 0, 'R': 0, 'S': 0, 'T': 1, 'V': 1, 'W': 0, 'Y': 0, 'Z': 0}\n",
      "{'gene name': 'ESYT2', 'Uniprot ID': 'A0FGR8', 'sequence length': 921, 'Feature name': 'Beta strand', 'start': 535, 'end': 547, 'length': 12, 'gap left': 11, 'Overlap with domain': 'Yes', 'Domain name': 'C2 2', 'Domain start': 191, 'domain end': 370, 'A': 2, 'B': 0, 'C': 0, 'D': 1, 'E': 0, 'F': 0, 'G': 0, 'H': 0, 'I': 1, 'K': 0, 'L': 4, 'M': 0, 'N': 0, 'P': 0, 'Q': 0, 'R': 1, 'S': 2, 'T': 0, 'V': 0, 'W': 0, 'Y': 1, 'Z': 0}\n",
      "{'gene name': 'ESYT2', 'Uniprot ID': 'A0FGR8', 'sequence length': 921, 'Feature name': 'Beta strand', 'start': 552, 'end': 554, 'length': 2, 'gap left': 5, 'Overlap with domain': 'Yes', 'Domain name': 'C2 2', 'Domain start': 191, 'domain end': 370, 'A': 0, 'B': 0, 'C': 0, 'D': 0, 'E': 0, 'F': 0, 'G': 0, 'H': 0, 'I': 0, 'K': 2, 'L': 0, 'M': 0, 'N': 0, 'P': 0, 'Q': 0, 'R': 0, 'S': 0, 'T': 0, 'V': 0, 'W': 0, 'Y': 0, 'Z': 0}\n",
      "{'gene name': 'ESYT2', 'Uniprot ID': 'A0FGR8', 'sequence length': 921, 'Feature name': 'Beta strand', 'start': 560, 'end': 566, 'length': 6, 'gap left': 6, 'Overlap with domain': 'Yes', 'Domain name': 'C2 2', 'Domain start': 191, 'domain end': 370, 'A': 0, 'B': 0, 'C': 0, 'D': 0, 'E': 0, 'F': 0, 'G': 0, 'H': 0, 'I': 0, 'K': 0, 'L': 0, 'M': 1, 'N': 0, 'P': 1, 'Q': 1, 'R': 0, 'S': 1, 'T': 0, 'V': 2, 'W': 0, 'Y': 0, 'Z': 0}\n",
      "{'gene name': 'ESYT2', 'Uniprot ID': 'A0FGR8', 'sequence length': 921, 'Feature name': 'Beta strand', 'start': 569, 'end': 572, 'length': 3, 'gap left': 3, 'Overlap with domain': 'Yes', 'Domain name': 'C2 2', 'Domain start': 191, 'domain end': 370, 'A': 1, 'B': 0, 'C': 0, 'D': 0, 'E': 0, 'F': 0, 'G': 0, 'H': 0, 'I': 0, 'K': 1, 'L': 0, 'M': 0, 'N': 0, 'P': 0, 'Q': 1, 'R': 0, 'S': 0, 'T': 0, 'V': 0, 'W': 0, 'Y': 0, 'Z': 0}\n",
      "{'gene name': 'ESYT2', 'Uniprot ID': 'A0FGR8', 'sequence length': 921, 'Feature name': 'Beta strand', 'start': 583, 'end': 593, 'length': 10, 'gap left': 11, 'Overlap with domain': 'Yes', 'Domain name': 'C2 2', 'Domain start': 191, 'domain end': 370, 'A': 0, 'B': 0, 'C': 0, 'D': 0, 'E': 2, 'F': 3, 'G': 0, 'H': 0, 'I': 1, 'K': 0, 'L': 0, 'M': 0, 'N': 1, 'P': 0, 'Q': 0, 'R': 0, 'S': 0, 'T': 1, 'V': 1, 'W': 1, 'Y': 0, 'Z': 0}\n",
      "{'gene name': 'ESYT2', 'Uniprot ID': 'A0FGR8', 'sequence length': 921, 'Feature name': 'Turn', 'start': 595, 'end': 597, 'length': 2, 'gap left': 2, 'Overlap with domain': 'Yes', 'Domain name': 'C2 2', 'Domain start': 191, 'domain end': 370, 'A': 0, 'B': 0, 'C': 0, 'D': 0, 'E': 0, 'F': 0, 'G': 0, 'H': 0, 'I': 0, 'K': 1, 'L': 0, 'M': 0, 'N': 0, 'P': 1, 'Q': 0, 'R': 0, 'S': 0, 'T': 0, 'V': 0, 'W': 0, 'Y': 0, 'Z': 0}\n",
      "{'gene name': 'ESYT2', 'Uniprot ID': 'A0FGR8', 'sequence length': 921, 'Feature name': 'Beta strand', 'start': 599, 'end': 606, 'length': 7, 'gap left': 2, 'Overlap with domain': 'Yes', 'Domain name': 'C2 2', 'Domain start': 191, 'domain end': 370, 'A': 0, 'B': 0, 'C': 0, 'D': 1, 'E': 2, 'F': 0, 'G': 0, 'H': 0, 'I': 0, 'K': 0, 'L': 1, 'M': 0, 'N': 0, 'P': 0, 'Q': 0, 'R': 1, 'S': 0, 'T': 0, 'V': 2, 'W': 0, 'Y': 0, 'Z': 0}\n",
      "{'gene name': 'ESYT2', 'Uniprot ID': 'A0FGR8', 'sequence length': 921, 'Feature name': 'Turn', 'start': 607, 'end': 609, 'length': 2, 'gap left': 1, 'Overlap with domain': 'Yes', 'Domain name': 'C2 2', 'Domain start': 191, 'domain end': 370, 'A': 0, 'B': 0, 'C': 0, 'D': 0, 'E': 1, 'F': 0, 'G': 0, 'H': 0, 'I': 0, 'K': 0, 'L': 0, 'M': 0, 'N': 0, 'P': 0, 'Q': 1, 'R': 0, 'S': 0, 'T': 0, 'V': 0, 'W': 0, 'Y': 0, 'Z': 0}\n",
      "{'gene name': 'ESYT2', 'Uniprot ID': 'A0FGR8', 'sequence length': 921, 'Feature name': 'Beta strand', 'start': 612, 'end': 619, 'length': 7, 'gap left': 3, 'Overlap with domain': 'Yes', 'Domain name': 'C2 2', 'Domain start': 191, 'domain end': 370, 'A': 0, 'B': 0, 'C': 0, 'D': 0, 'E': 0, 'F': 0, 'G': 1, 'H': 0, 'I': 0, 'K': 1, 'L': 2, 'M': 0, 'N': 1, 'P': 0, 'Q': 0, 'R': 0, 'S': 1, 'T': 0, 'V': 1, 'W': 0, 'Y': 0, 'Z': 0}\n",
      "{'gene name': 'ESYT2', 'Uniprot ID': 'A0FGR8', 'sequence length': 921, 'Feature name': 'Helix', 'start': 621, 'end': 624, 'length': 3, 'gap left': 2, 'Overlap with domain': 'Yes', 'Domain name': 'C2 2', 'Domain start': 191, 'domain end': 370, 'A': 0, 'B': 0, 'C': 0, 'D': 0, 'E': 0, 'F': 0, 'G': 0, 'H': 0, 'I': 0, 'K': 0, 'L': 1, 'M': 0, 'N': 0, 'P': 0, 'Q': 1, 'R': 0, 'S': 1, 'T': 0, 'V': 0, 'W': 0, 'Y': 0, 'Z': 0}\n",
      "{'gene name': 'ESYT2', 'Uniprot ID': 'A0FGR8', 'sequence length': 921, 'Feature name': 'Helix', 'start': 627, 'end': 629, 'length': 2, 'gap left': 3, 'Overlap with domain': 'Yes', 'Domain name': 'C2 2', 'Domain start': 191, 'domain end': 370, 'A': 0, 'B': 0, 'C': 0, 'D': 1, 'E': 1, 'F': 0, 'G': 0, 'H': 0, 'I': 0, 'K': 0, 'L': 0, 'M': 0, 'N': 0, 'P': 0, 'Q': 0, 'R': 0, 'S': 0, 'T': 0, 'V': 0, 'W': 0, 'Y': 0, 'Z': 0}\n",
      "{'gene name': 'ESYT2', 'Uniprot ID': 'A0FGR8', 'sequence length': 921, 'Feature name': 'Beta strand', 'start': 630, 'end': 636, 'length': 6, 'gap left': 1, 'Overlap with domain': 'Yes', 'Domain name': 'C2 2', 'Domain start': 191, 'domain end': 370, 'A': 0, 'B': 0, 'C': 0, 'D': 0, 'E': 0, 'F': 1, 'G': 0, 'H': 0, 'I': 0, 'K': 0, 'L': 0, 'M': 0, 'N': 0, 'P': 0, 'Q': 1, 'R': 1, 'S': 1, 'T': 1, 'V': 1, 'W': 0, 'Y': 0, 'Z': 0}\n",
      "{'gene name': 'ESYT2', 'Uniprot ID': 'A0FGR8', 'sequence length': 921, 'Feature name': 'Beta strand', 'start': 638, 'end': 640, 'length': 2, 'gap left': 2, 'Overlap with domain': 'Yes', 'Domain name': 'C2 2', 'Domain start': 191, 'domain end': 370, 'A': 0, 'B': 0, 'C': 0, 'D': 0, 'E': 0, 'F': 0, 'G': 0, 'H': 0, 'I': 0, 'K': 0, 'L': 0, 'M': 0, 'N': 1, 'P': 0, 'Q': 0, 'R': 0, 'S': 1, 'T': 0, 'V': 0, 'W': 0, 'Y': 0, 'Z': 0}\n",
      "{'gene name': 'ESYT2', 'Uniprot ID': 'A0FGR8', 'sequence length': 921, 'Feature name': 'Beta strand', 'start': 645, 'end': 656, 'length': 11, 'gap left': 5, 'Overlap with domain': 'No', 'Domain name': 'None', 'Domain start': 'None', 'domain end': 'None', 'A': 1, 'B': 0, 'C': 0, 'D': 0, 'E': 0, 'F': 0, 'G': 0, 'H': 0, 'I': 2, 'K': 2, 'L': 2, 'M': 1, 'N': 0, 'P': 0, 'Q': 0, 'R': 1, 'S': 0, 'T': 1, 'V': 1, 'W': 0, 'Y': 0, 'Z': 0}\n",
      "{'gene name': 'ESYT2', 'Uniprot ID': 'A0FGR8', 'sequence length': 921, 'Feature name': 'Beta strand', 'start': 789, 'end': 797, 'length': 8, 'gap left': 133, 'Overlap with domain': 'Yes', 'Domain name': 'C2 3', 'Domain start': 191, 'domain end': 370, 'A': 0, 'B': 0, 'C': 0, 'D': 0, 'E': 0, 'F': 0, 'G': 0, 'H': 1, 'I': 2, 'K': 0, 'L': 1, 'M': 0, 'N': 0, 'P': 0, 'Q': 2, 'R': 1, 'S': 0, 'T': 1, 'V': 0, 'W': 0, 'Y': 0, 'Z': 0}\n",
      "{'gene name': 'ESYT2', 'Uniprot ID': 'A0FGR8', 'sequence length': 921, 'Feature name': 'Turn', 'start': 798, 'end': 801, 'length': 3, 'gap left': 1, 'Overlap with domain': 'Yes', 'Domain name': 'C2 3', 'Domain start': 191, 'domain end': 370, 'A': 0, 'B': 0, 'C': 0, 'D': 0, 'E': 0, 'F': 0, 'G': 0, 'H': 0, 'I': 0, 'K': 0, 'L': 0, 'M': 0, 'N': 0, 'P': 0, 'Q': 1, 'R': 1, 'S': 1, 'T': 0, 'V': 0, 'W': 0, 'Y': 0, 'Z': 0}\n",
      "{'gene name': 'ESYT2', 'Uniprot ID': 'A0FGR8', 'sequence length': 921, 'Feature name': 'Beta strand', 'start': 802, 'end': 811, 'length': 9, 'gap left': 1, 'Overlap with domain': 'Yes', 'Domain name': 'C2 3', 'Domain start': 191, 'domain end': 370, 'A': 1, 'B': 0, 'C': 1, 'D': 0, 'E': 0, 'F': 0, 'G': 0, 'H': 1, 'I': 1, 'K': 1, 'L': 1, 'M': 0, 'N': 0, 'P': 0, 'Q': 0, 'R': 0, 'S': 0, 'T': 0, 'V': 3, 'W': 0, 'Y': 0, 'Z': 0}\n",
      "{'gene name': 'ESYT2', 'Uniprot ID': 'A0FGR8', 'sequence length': 921, 'Feature name': 'Beta strand', 'start': 823, 'end': 831, 'length': 8, 'gap left': 12, 'Overlap with domain': 'Yes', 'Domain name': 'C2 3', 'Domain start': 191, 'domain end': 370, 'A': 0, 'B': 0, 'C': 0, 'D': 0, 'E': 0, 'F': 0, 'G': 0, 'H': 0, 'I': 0, 'K': 0, 'L': 2, 'M': 1, 'N': 0, 'P': 1, 'Q': 0, 'R': 1, 'S': 0, 'T': 0, 'V': 1, 'W': 0, 'Y': 2, 'Z': 0}\n",
      "{'gene name': 'ESYT2', 'Uniprot ID': 'A0FGR8', 'sequence length': 921, 'Feature name': 'Beta strand', 'start': 835, 'end': 837, 'length': 2, 'gap left': 4, 'Overlap with domain': 'Yes', 'Domain name': 'C2 3', 'Domain start': 191, 'domain end': 370, 'A': 0, 'B': 0, 'C': 0, 'D': 0, 'E': 0, 'F': 0, 'G': 0, 'H': 0, 'I': 0, 'K': 0, 'L': 0, 'M': 0, 'N': 0, 'P': 0, 'Q': 0, 'R': 1, 'S': 1, 'T': 0, 'V': 0, 'W': 0, 'Y': 0, 'Z': 0}\n",
      "{'gene name': 'ESYT2', 'Uniprot ID': 'A0FGR8', 'sequence length': 921, 'Feature name': 'Beta strand', 'start': 851, 'end': 858, 'length': 7, 'gap left': 14, 'Overlap with domain': 'Yes', 'Domain name': 'C2 3', 'Domain start': 191, 'domain end': 370, 'A': 0, 'B': 0, 'C': 0, 'D': 2, 'E': 0, 'F': 2, 'G': 0, 'H': 0, 'I': 0, 'K': 0, 'L': 0, 'M': 0, 'N': 0, 'P': 0, 'Q': 1, 'R': 0, 'S': 1, 'T': 0, 'V': 1, 'W': 0, 'Y': 0, 'Z': 0}\n",
      "{'gene name': 'ESYT2', 'Uniprot ID': 'A0FGR8', 'sequence length': 921, 'Feature name': 'Helix', 'start': 862, 'end': 867, 'length': 5, 'gap left': 4, 'Overlap with domain': 'Yes', 'Domain name': 'C2 3', 'Domain start': 191, 'domain end': 370, 'A': 0, 'B': 0, 'C': 0, 'D': 0, 'E': 1, 'F': 0, 'G': 0, 'H': 0, 'I': 0, 'K': 0, 'L': 1, 'M': 0, 'N': 0, 'P': 1, 'Q': 1, 'R': 0, 'S': 0, 'T': 0, 'V': 1, 'W': 0, 'Y': 0, 'Z': 0}\n",
      "{'gene name': 'ESYT2', 'Uniprot ID': 'A0FGR8', 'sequence length': 921, 'Feature name': 'Beta strand', 'start': 869, 'end': 876, 'length': 7, 'gap left': 2, 'Overlap with domain': 'Yes', 'Domain name': 'C2 3', 'Domain start': 191, 'domain end': 370, 'A': 1, 'B': 0, 'C': 0, 'D': 1, 'E': 0, 'F': 0, 'G': 0, 'H': 0, 'I': 0, 'K': 1, 'L': 1, 'M': 0, 'N': 0, 'P': 0, 'Q': 0, 'R': 0, 'S': 0, 'T': 1, 'V': 2, 'W': 0, 'Y': 0, 'Z': 0}\n",
      "{'gene name': 'ESYT2', 'Uniprot ID': 'A0FGR8', 'sequence length': 921, 'Feature name': 'Beta strand', 'start': 889, 'end': 894, 'length': 5, 'gap left': 13, 'Overlap with domain': 'Yes', 'Domain name': 'C2 3', 'Domain start': 191, 'domain end': 370, 'A': 0, 'B': 0, 'C': 0, 'D': 0, 'E': 0, 'F': 0, 'G': 1, 'H': 0, 'I': 0, 'K': 1, 'L': 1, 'M': 0, 'N': 0, 'P': 0, 'Q': 0, 'R': 0, 'S': 0, 'T': 0, 'V': 2, 'W': 0, 'Y': 0, 'Z': 0}\n",
      "{'gene name': 'ESYT2', 'Uniprot ID': 'A0FGR8', 'sequence length': 921, 'Feature name': 'Turn', 'start': 899, 'end': 902, 'length': 3, 'gap left': 5, 'Overlap with domain': 'Yes', 'Domain name': 'C2 3', 'Domain start': 191, 'domain end': 370, 'A': 1, 'B': 0, 'C': 0, 'D': 0, 'E': 1, 'F': 0, 'G': 0, 'H': 0, 'I': 0, 'K': 0, 'L': 1, 'M': 0, 'N': 0, 'P': 0, 'Q': 0, 'R': 0, 'S': 0, 'T': 0, 'V': 0, 'W': 0, 'Y': 0, 'Z': 0}\n"
     ]
    }
   ],
   "source": [
    "desired_features = ['Beta strand','Helix','Turn']\n",
    "\n",
    "# get domain inforamtion\n",
    "known_things = {}\n",
    "final_table_list = []   \n",
    "to_download = []\n",
    "#ids = ['Q8TAD8']    \n",
    "ids = ['A0FGR8']\n",
    "            \n",
    "# loop over all uniprot ids\n",
    "for i in range(len(ids)):\n",
    "#for i in range(30):\n",
    "    # Process uniprot file\n",
    "    fname = 'unique_ids/'+ids[i]+'.json'\n",
    "\n",
    "\n",
    "    if os.path.isfile(fname):\n",
    "        f = open(fname)\n",
    "        data = json.load(f)\n",
    "        f.close()\n",
    "\n",
    "        known_things = get_domainn_region_info(data)\n",
    "        print(known_things)\n",
    "        \n",
    "        keys = data.keys()\n",
    "\n",
    "        sequence_length = data['sequence']['length']\n",
    "        sequence = data['sequence']['value']\n",
    "        print(sequence)\n",
    "\n",
    "        # populate dictionary:\n",
    "        #print(f\"sequence length is: {sequence_length}\")\n",
    "        gene_name = 'NA'\n",
    "        if 'genes' in keys:\n",
    "            gene_name = data['genes'][0]['geneName']['value']\n",
    "            \n",
    "        #print(f\"gene name: {gene_name}\")\n",
    "        \n",
    "        uni_id = 'NA'\n",
    "        if 'primaryAccession' in keys:\n",
    "            uni_id = data['primaryAccession'] \n",
    "        #print('uni_id',uni_id)\n",
    "    \n",
    "\n",
    "        if 'features' in keys:\n",
    "            \n",
    "            # populate domain information\n",
    "            for d in data['features']:\n",
    "                #print(d['type'])\n",
    "                if d['type'] == 'Domain':\n",
    "                    known_things['Domain'].append([d['location']['start']['value'], d['location']['end']['value'], d['description']])\n",
    "            \n",
    "            domain_mask = get_domain_mask(known_things,sequence_length)\n",
    "\n",
    "            #if len(final_table_list)>0:\n",
    "            #    final_table_list[-1]['gap'] = final_table_list[-1]['sequence length']-final_table_list[-1]['end']\n",
    "            \n",
    "            # now check secondary structure features and if there is overlap\n",
    "            starts = []\n",
    "            ends = []\n",
    "            count = 0\n",
    "            gap = None\n",
    "            for f in data['features']:\n",
    "                if f['type'] in desired_features:\n",
    "                    final_table_dic = {}\n",
    "                    # print('=====New feature====')\n",
    "                    # print(f['type'])\n",
    "\n",
    "                    start = f['location']['start']['value']\n",
    "                    end = f['location']['end']['value']\n",
    "\n",
    "                    # Check if features is in domain\n",
    "                    if feature_in_domain(domain_mask, start, end, percent_overlap=50):\n",
    "                        domain_feature_overalp = 'Yes'\n",
    "                        domain_name = get_domain_name(start,end,known_things)\n",
    "                        domain_start = known_things['Domain'][0][0]\n",
    "                        domain_end = known_things['Domain'][0][1]\n",
    "                    else:\n",
    "                        domain_feature_overalp = 'No'  \n",
    "                        domain_name = 'None'\n",
    "                        domain_start = 'None'\n",
    "                        domain_end = 'None'\n",
    "                    \n",
    "\n",
    "                    if len(ends)>0:\n",
    "                        gap = start-ends[-1]\n",
    "                    #elif count == len(data['features'])-1:\n",
    "                    #    print('this happens')\n",
    "                    #    gap = (sequence_length-end)\n",
    "                    #else:\n",
    "                    #    gap = start\n",
    "                    feature_length = end - start\n",
    "                    final_table_dic['gene name'] = gene_name\n",
    "                    final_table_dic['Uniprot ID'] = uni_id\n",
    "                    final_table_dic['sequence length'] = sequence_length\n",
    "                    final_table_dic['Feature name'] = f['type']\n",
    "                    final_table_dic['start'] = start\n",
    "                    final_table_dic['end'] = end\n",
    "                    final_table_dic['length'] = feature_length\n",
    "   \n",
    "                    \n",
    "                    \n",
    "                    if gap is None:\n",
    "                        final_table_dic['gap left'] = gap\n",
    "                    else:\n",
    "                        final_table_dic['gap left'] = int(gap)\n",
    "                    final_table_dic['Overlap with domain'] = domain_feature_overalp\n",
    "                    final_table_dic['Domain name'] = domain_name\n",
    "                    final_table_dic['Domain start'] = domain_start\n",
    "                    final_table_dic['domain end'] = domain_end\n",
    "\n",
    "                    # count occurances of AS in sequence section if we label it EFD\n",
    "                    as_count = populate_as_occurances(sequence[start-1:end-1], domain_name)   \n",
    "                    final_table_dic.update(as_count)\n",
    "                    if verbose: \n",
    "                        print(f\"start: {start}\")\n",
    "                        print(f\"end: {end}\")\n",
    "                        print(f\"length: {feature_length}\")\n",
    "                        print(f\"gap: {gap}\")\n",
    "                        print(f\"Domain feature overlap: {domain_feature_overalp}\")\n",
    "                        print(f\"domain name: {domain_name}\")\n",
    "                    starts.append(start)\n",
    "                    ends.append(end)\n",
    "                    print(final_table_dic)\n",
    "                    final_table_list.append(final_table_dic)\n",
    "                    count+=1\n",
    "            starts = np.array(starts)\n",
    "            ends = np.array(ends)\n",
    "            gaps = (starts[1:-1]-ends[0:-2])-1\n",
    "    else:\n",
    "        #print(f\"{fname} does not exist\")\n",
    "        to_download.append(ids[i])\n"
   ]
  },
  {
   "cell_type": "code",
   "execution_count": 99,
   "id": "d8b4331d-9770-46c3-9dd7-9701585a3b40",
   "metadata": {},
   "outputs": [],
   "source": [
    "domain_list = []\n",
    "ends = []\n",
    "starts = []\n",
    "for i in range(len(final_table_list)):\n",
    "    d = final_table_list[i]\n",
    "    domain_list.append(d['Domain name'])\n",
    "    ends.append(d['end'])\n",
    "    starts.append(d['start'])\n",
    "no_domain=np.where(np.array(domain_list) == 'None')[0].tolist()\n",
    "known_domain=np.where(np.array(domain_list) != 'None')[0].tolist()"
   ]
  },
  {
   "cell_type": "code",
   "execution_count": 149,
   "id": "f71f8032-d71f-4a3f-9cd1-dfdb1d3046d5",
   "metadata": {},
   "outputs": [],
   "source": [
    "from itertools import groupby\n",
    "\n",
    "def count_boolean_blocks(arr):\n",
    "    true_blocks = sum(1 for k, g in groupby(arr) if k)\n",
    "    false_blocks = sum(1 for k, g in groupby(arr) if not k)\n",
    "    \n",
    "    return true_blocks, false_blocks"
   ]
  },
  {
   "cell_type": "code",
   "execution_count": 135,
   "id": "98b74886-07d5-4c49-b6e6-8b7a7cb577f8",
   "metadata": {},
   "outputs": [],
   "source": [
    "domain= np.array(domain_list)\n",
    "ends = np.array(ends)\n",
    "starts = np.array(starts)"
   ]
  },
  {
   "cell_type": "code",
   "execution_count": 136,
   "id": "b6b585d7-f2c5-4674-bcda-c8c961ac37e1",
   "metadata": {},
   "outputs": [],
   "source": [
    "test_domain = domain != \"None\"\n",
    "test_none = domain == \"None\""
   ]
  },
  {
   "cell_type": "code",
   "execution_count": 137,
   "id": "6ecafb59-f58c-4c95-a3b4-8738a3319462",
   "metadata": {},
   "outputs": [],
   "source": [
    "domain_pos = np.where(test_domain)[0]"
   ]
  },
  {
   "cell_type": "code",
   "execution_count": 138,
   "id": "66cefb55-3916-48c6-8a00-0af0c36a05c9",
   "metadata": {},
   "outputs": [
    {
     "data": {
      "text/plain": [
       "array([ 0,  1,  2,  3,  4,  5,  6,  7,  8,  9, 10, 11, 12, 13, 14, 15, 16,\n",
       "       17, 18, 19, 20, 21, 22, 23, 24, 27, 28, 29, 30, 31, 32, 33, 34, 35,\n",
       "       36, 37, 38, 39, 40, 42, 43, 44, 45, 46, 47, 48, 49, 50, 51])"
      ]
     },
     "execution_count": 138,
     "metadata": {},
     "output_type": "execute_result"
    }
   ],
   "source": [
    "domain_pos"
   ]
  },
  {
   "cell_type": "code",
   "execution_count": 155,
   "id": "6d5abe6d-b105-43bf-b0cc-f266ced37f8d",
   "metadata": {},
   "outputs": [
    {
     "data": {
      "text/plain": [
       "array([ True,  True,  True,  True,  True,  True,  True,  True,  True,\n",
       "        True,  True,  True,  True,  True,  True,  True,  True,  True,\n",
       "        True,  True,  True,  True,  True,  True,  True, False, False,\n",
       "        True,  True,  True,  True,  True,  True,  True,  True,  True,\n",
       "        True,  True,  True,  True,  True, False,  True,  True,  True,\n",
       "        True,  True,  True,  True,  True,  True,  True])"
      ]
     },
     "execution_count": 155,
     "metadata": {},
     "output_type": "execute_result"
    }
   ],
   "source": [
    "test_domain"
   ]
  },
  {
   "cell_type": "code",
   "execution_count": 156,
   "id": "307a29fd-26eb-4054-91e5-5546795564bb",
   "metadata": {},
   "outputs": [
    {
     "data": {
      "text/plain": [
       "array([False, False, False, False, False, False, False, False, False,\n",
       "       False, False, False, False, False, False, False, False, False,\n",
       "       False, False, False, False, False, False, False,  True,  True,\n",
       "       False, False, False, False, False, False, False, False, False,\n",
       "       False, False, False, False, False,  True, False, False, False,\n",
       "       False, False, False, False, False, False, False])"
      ]
     },
     "execution_count": 156,
     "metadata": {},
     "output_type": "execute_result"
    }
   ],
   "source": [
    "test_none"
   ]
  },
  {
   "cell_type": "code",
   "execution_count": 178,
   "id": "b3847f6a-bade-41ed-8283-26d49ef2e650",
   "metadata": {},
   "outputs": [],
   "source": [
    "domain_index = []\n",
    "for i in range(len(domain_list)):\n",
    "    domain_index.append(i)"
   ]
  },
  {
   "cell_type": "code",
   "execution_count": 181,
   "id": "aba2eb75-215b-4372-9fd9-94ded99ea7cd",
   "metadata": {},
   "outputs": [],
   "source": [
    "def splitByMask(a, mask):\n",
    "    return np.split(a, np.flatnonzero(np.diff(mask)) + 1)\n",
    "splitted_index = splitByMask(domain_index, test_none)\n",
    "splitted_label = splitByMask(domain_list, test_none)"
   ]
  },
  {
   "cell_type": "code",
   "execution_count": 182,
   "id": "4815db7f-f159-4952-9298-3cdcfe94aad5",
   "metadata": {},
   "outputs": [
    {
     "data": {
      "text/plain": [
       "[array([ 0,  1,  2,  3,  4,  5,  6,  7,  8,  9, 10, 11, 12, 13, 14, 15, 16,\n",
       "        17, 18, 19, 20, 21, 22, 23, 24]),\n",
       " array([25, 26]),\n",
       " array([27, 28, 29, 30, 31, 32, 33, 34, 35, 36, 37, 38, 39, 40]),\n",
       " array([41]),\n",
       " array([42, 43, 44, 45, 46, 47, 48, 49, 50, 51])]"
      ]
     },
     "execution_count": 182,
     "metadata": {},
     "output_type": "execute_result"
    }
   ],
   "source": [
    "splitted_index"
   ]
  },
  {
   "cell_type": "code",
   "execution_count": 188,
   "id": "098871da-8c94-4109-bd7c-1b0cb981baac",
   "metadata": {},
   "outputs": [],
   "source": [
    "backwards_first = False\n",
    "if splitted_label[0][0] == None:\n",
    "    backward_first = True"
   ]
  },
  {
   "cell_type": "code",
   "execution_count": 189,
   "id": "9d61d598-ee06-489d-ba6e-1dba35d5ef83",
   "metadata": {},
   "outputs": [
    {
     "data": {
      "text/plain": [
       "False"
      ]
     },
     "execution_count": 189,
     "metadata": {},
     "output_type": "execute_result"
    }
   ],
   "source": [
    "backwards_first"
   ]
  },
  {
   "cell_type": "code",
   "execution_count": 195,
   "id": "199203a5-a6ca-4823-97e1-f870bcbdf36f",
   "metadata": {},
   "outputs": [
    {
     "name": "stdout",
     "output_type": "stream",
     "text": [
      "[ 0  1  2  3  4  5  6  7  8  9 10 11 12 13 14 15 16 17 18 19 20 21 22 23\n",
      " 24]\n",
      "2\n",
      "[25 26]\n",
      "yes\n",
      "[25 26]\n",
      "0\n",
      "[]\n",
      "[27 28 29 30 31 32 33 34 35 36 37 38 39 40]\n",
      "1\n",
      "[41]\n",
      "yes\n",
      "[41]\n",
      "0\n",
      "[]\n",
      "[42 43 44 45 46 47 48 49 50 51]\n",
      "0\n",
      "[]\n"
     ]
    }
   ],
   "source": [
    "cnt = 1\n",
    "myendpos = np.where(test_none)[0]\n",
    "myendvals = ends[myendpos]\n",
    "for i,d in enumerate(splitted_index):\n",
    "    if backwards_first:\n",
    "\n",
    "        s = domain_pos[0]\n",
    "    \n",
    "        myhits = np.logical_and(s-myendvals<40, s-myendvals>0)\n",
    "        myabspos = myendpos[myhits]\n",
    "        print(len(myabspos))\n",
    "        print(myabspos)\n",
    "        if len(myabspos)>0:\n",
    "            print('yes')\n",
    "            domain[myabspos] = f\"ED{cnt}\"\n",
    "            cnt += 1\n",
    "    # forward first\n",
    "    else:\n",
    "        print(d)\n",
    "        s = ends[d[-1]]\n",
    "        myhits = np.logical_and(myendvals-s<40, myendvals-s>0)\n",
    "        myabspos = myendpos[myhits]\n",
    "        print(len(myabspos))\n",
    "        print(myabspos)\n",
    "        if len(myabspos)>0:\n",
    "            print('yes')\n",
    "            domain[myabspos] = f\"ED{cnt}\"\n",
    "            cnt += 1"
   ]
  },
  {
   "cell_type": "code",
   "execution_count": 196,
   "id": "14fa2bc1-aade-4a38-aab2-9e39c999f32f",
   "metadata": {},
   "outputs": [
    {
     "data": {
      "text/plain": [
       "array(['SMP-LTD', 'SMP-LTD', 'SMP-LTD', 'SMP-LTD', 'SMP-LTD', 'SMP-LTD',\n",
       "       'SMP-LTD', 'SMP-LTD', 'SMP-LTD', 'SMP-LTD', 'SMP-LTD', 'SMP-LTD',\n",
       "       'SMP-LTD', 'SMP-LTD', 'C2 1', 'C2 1', 'C2 1', 'C2 1', 'C2 1',\n",
       "       'C2 1', 'C2 1', 'C2 1', 'C2 1', 'C2 1', 'C2 1', 'ED1', 'ED1',\n",
       "       'C2 2', 'C2 2', 'C2 2', 'C2 2', 'C2 2', 'C2 2', 'C2 2', 'C2 2',\n",
       "       'C2 2', 'C2 2', 'C2 2', 'C2 2', 'C2 2', 'C2 2', 'ED2', 'C2 3',\n",
       "       'C2 3', 'C2 3', 'C2 3', 'C2 3', 'C2 3', 'C2 3', 'C2 3', 'C2 3',\n",
       "       'C2 3'], dtype='<U7')"
      ]
     },
     "execution_count": 196,
     "metadata": {},
     "output_type": "execute_result"
    }
   ],
   "source": [
    "domain"
   ]
  },
  {
   "cell_type": "code",
   "execution_count": 153,
   "id": "01cd6a4e-d4e5-4d0a-aae6-5c85cdb4e871",
   "metadata": {},
   "outputs": [
    {
     "name": "stdout",
     "output_type": "stream",
     "text": [
      "0\n",
      "[]\n",
      "0\n",
      "[]\n",
      "0\n",
      "[]\n"
     ]
    }
   ],
   "source": [
    "cnt = 1\n",
    "myendpos = np.where(test_none)[0]\n",
    "myendvals = ends[myendpos]\n",
    "for d in range(num_domains):\n",
    "\n",
    "    s = domain_pos[0]\n",
    "\n",
    "    myhits = np.logical_and(s-myendvals<40, s-myendvals>0)\n",
    "    myabspos = myendpos[myhits]\n",
    "    print(len(myabspos))\n",
    "    print(myabspos)\n",
    "    if len(myabspos)>0:\n",
    "        print('yes')\n",
    "        domain[myabspos] = f\"ED{cnt}\"\n",
    "        cnt += 1\n",
    "    "
   ]
  },
  {
   "cell_type": "code",
   "execution_count": 73,
   "id": "56404e21-149f-419f-9216-6bd32087310c",
   "metadata": {},
   "outputs": [
    {
     "data": {
      "text/plain": [
       "array(['None', 'None', 'ED1', 'ED3', 'FHA', 'FHA', 'FHA', 'FHA', 'FHA',\n",
       "       'None', 'None'], dtype='<U4')"
      ]
     },
     "execution_count": 73,
     "metadata": {},
     "output_type": "execute_result"
    }
   ],
   "source": [
    "domain"
   ]
  },
  {
   "cell_type": "markdown",
   "id": "858cc690-d6cf-4fbb-a72e-519a11ba14e1",
   "metadata": {},
   "source": [
    "## Check if things need to be downloaded"
   ]
  },
  {
   "cell_type": "code",
   "execution_count": 29,
   "id": "0416d282-4dd3-4b59-b3bb-230b4c6cfdab",
   "metadata": {},
   "outputs": [
    {
     "data": {
      "text/plain": [
       "0"
      ]
     },
     "execution_count": 29,
     "metadata": {},
     "output_type": "execute_result"
    }
   ],
   "source": [
    "len(to_download)"
   ]
  },
  {
   "cell_type": "code",
   "execution_count": 30,
   "id": "6227ea96-f8b7-4379-bd32-952891c5d4a2",
   "metadata": {},
   "outputs": [],
   "source": [
    "if len(to_download) > 0:\n",
    "    f = open('data_idr/missing_ids', 'w')\n",
    "    for id in to_download:\n",
    "        f.write(id+'\\n')\n",
    "    f.close()"
   ]
  },
  {
   "cell_type": "markdown",
   "id": "2069fad1-8863-49f9-835e-28e3ffb0889f",
   "metadata": {},
   "source": [
    "## Finalising the table"
   ]
  },
  {
   "cell_type": "code",
   "execution_count": 94,
   "id": "3bd4c509-10cb-468f-9063-31cf1561a8cc",
   "metadata": {},
   "outputs": [],
   "source": [
    "df = pd.DataFrame(final_table_list)  "
   ]
  },
  {
   "cell_type": "code",
   "execution_count": 95,
   "id": "57cf577c-dd41-4556-a819-f9f6ab0ea40f",
   "metadata": {},
   "outputs": [
    {
     "data": {
      "text/html": [
       "<div>\n",
       "<style scoped>\n",
       "    .dataframe tbody tr th:only-of-type {\n",
       "        vertical-align: middle;\n",
       "    }\n",
       "\n",
       "    .dataframe tbody tr th {\n",
       "        vertical-align: top;\n",
       "    }\n",
       "\n",
       "    .dataframe thead th {\n",
       "        text-align: right;\n",
       "    }\n",
       "</style>\n",
       "<table border=\"1\" class=\"dataframe\">\n",
       "  <thead>\n",
       "    <tr style=\"text-align: right;\">\n",
       "      <th></th>\n",
       "      <th>gene name</th>\n",
       "      <th>Uniprot ID</th>\n",
       "      <th>sequence length</th>\n",
       "      <th>Feature name</th>\n",
       "      <th>start</th>\n",
       "      <th>end</th>\n",
       "      <th>length</th>\n",
       "      <th>gap left</th>\n",
       "      <th>Overlap with domain</th>\n",
       "      <th>Domain name</th>\n",
       "      <th>...</th>\n",
       "      <th>N</th>\n",
       "      <th>P</th>\n",
       "      <th>Q</th>\n",
       "      <th>R</th>\n",
       "      <th>S</th>\n",
       "      <th>T</th>\n",
       "      <th>V</th>\n",
       "      <th>W</th>\n",
       "      <th>Y</th>\n",
       "      <th>Z</th>\n",
       "    </tr>\n",
       "  </thead>\n",
       "  <tbody>\n",
       "    <tr>\n",
       "      <th>0</th>\n",
       "      <td>RBM47</td>\n",
       "      <td>A0AV96</td>\n",
       "      <td>593</td>\n",
       "      <td>Beta strand</td>\n",
       "      <td>150</td>\n",
       "      <td>156</td>\n",
       "      <td>6</td>\n",
       "      <td>NaN</td>\n",
       "      <td>Yes</td>\n",
       "      <td>RRM 2</td>\n",
       "      <td>...</td>\n",
       "      <td>1</td>\n",
       "      <td>0</td>\n",
       "      <td>0</td>\n",
       "      <td>1</td>\n",
       "      <td>0</td>\n",
       "      <td>0</td>\n",
       "      <td>0</td>\n",
       "      <td>0</td>\n",
       "      <td>0</td>\n",
       "      <td>0</td>\n",
       "    </tr>\n",
       "    <tr>\n",
       "      <th>1</th>\n",
       "      <td>RBM47</td>\n",
       "      <td>A0AV96</td>\n",
       "      <td>593</td>\n",
       "      <td>Helix</td>\n",
       "      <td>164</td>\n",
       "      <td>174</td>\n",
       "      <td>10</td>\n",
       "      <td>8.0</td>\n",
       "      <td>Yes</td>\n",
       "      <td>RRM 2</td>\n",
       "      <td>...</td>\n",
       "      <td>0</td>\n",
       "      <td>0</td>\n",
       "      <td>0</td>\n",
       "      <td>1</td>\n",
       "      <td>0</td>\n",
       "      <td>0</td>\n",
       "      <td>0</td>\n",
       "      <td>0</td>\n",
       "      <td>0</td>\n",
       "      <td>0</td>\n",
       "    </tr>\n",
       "    <tr>\n",
       "      <th>2</th>\n",
       "      <td>RBM47</td>\n",
       "      <td>A0AV96</td>\n",
       "      <td>593</td>\n",
       "      <td>Beta strand</td>\n",
       "      <td>178</td>\n",
       "      <td>182</td>\n",
       "      <td>4</td>\n",
       "      <td>4.0</td>\n",
       "      <td>Yes</td>\n",
       "      <td>RRM 2</td>\n",
       "      <td>...</td>\n",
       "      <td>0</td>\n",
       "      <td>0</td>\n",
       "      <td>0</td>\n",
       "      <td>0</td>\n",
       "      <td>0</td>\n",
       "      <td>0</td>\n",
       "      <td>2</td>\n",
       "      <td>0</td>\n",
       "      <td>0</td>\n",
       "      <td>0</td>\n",
       "    </tr>\n",
       "    <tr>\n",
       "      <th>3</th>\n",
       "      <td>RBM47</td>\n",
       "      <td>A0AV96</td>\n",
       "      <td>593</td>\n",
       "      <td>Beta strand</td>\n",
       "      <td>185</td>\n",
       "      <td>187</td>\n",
       "      <td>2</td>\n",
       "      <td>3.0</td>\n",
       "      <td>Yes</td>\n",
       "      <td>RRM 2</td>\n",
       "      <td>...</td>\n",
       "      <td>0</td>\n",
       "      <td>0</td>\n",
       "      <td>0</td>\n",
       "      <td>0</td>\n",
       "      <td>1</td>\n",
       "      <td>0</td>\n",
       "      <td>0</td>\n",
       "      <td>0</td>\n",
       "      <td>0</td>\n",
       "      <td>0</td>\n",
       "    </tr>\n",
       "    <tr>\n",
       "      <th>4</th>\n",
       "      <td>RBM47</td>\n",
       "      <td>A0AV96</td>\n",
       "      <td>593</td>\n",
       "      <td>Turn</td>\n",
       "      <td>189</td>\n",
       "      <td>193</td>\n",
       "      <td>4</td>\n",
       "      <td>2.0</td>\n",
       "      <td>Yes</td>\n",
       "      <td>RRM 2</td>\n",
       "      <td>...</td>\n",
       "      <td>0</td>\n",
       "      <td>0</td>\n",
       "      <td>0</td>\n",
       "      <td>0</td>\n",
       "      <td>0</td>\n",
       "      <td>0</td>\n",
       "      <td>0</td>\n",
       "      <td>0</td>\n",
       "      <td>0</td>\n",
       "      <td>0</td>\n",
       "    </tr>\n",
       "    <tr>\n",
       "      <th>...</th>\n",
       "      <td>...</td>\n",
       "      <td>...</td>\n",
       "      <td>...</td>\n",
       "      <td>...</td>\n",
       "      <td>...</td>\n",
       "      <td>...</td>\n",
       "      <td>...</td>\n",
       "      <td>...</td>\n",
       "      <td>...</td>\n",
       "      <td>...</td>\n",
       "      <td>...</td>\n",
       "      <td>...</td>\n",
       "      <td>...</td>\n",
       "      <td>...</td>\n",
       "      <td>...</td>\n",
       "      <td>...</td>\n",
       "      <td>...</td>\n",
       "      <td>...</td>\n",
       "      <td>...</td>\n",
       "      <td>...</td>\n",
       "      <td>...</td>\n",
       "    </tr>\n",
       "    <tr>\n",
       "      <th>79</th>\n",
       "      <td>MED19</td>\n",
       "      <td>A0JLT2</td>\n",
       "      <td>244</td>\n",
       "      <td>Helix</td>\n",
       "      <td>90</td>\n",
       "      <td>96</td>\n",
       "      <td>6</td>\n",
       "      <td>4.0</td>\n",
       "      <td>No</td>\n",
       "      <td>None</td>\n",
       "      <td>...</td>\n",
       "      <td>1</td>\n",
       "      <td>0</td>\n",
       "      <td>1</td>\n",
       "      <td>0</td>\n",
       "      <td>0</td>\n",
       "      <td>0</td>\n",
       "      <td>0</td>\n",
       "      <td>0</td>\n",
       "      <td>1</td>\n",
       "      <td>0</td>\n",
       "    </tr>\n",
       "    <tr>\n",
       "      <th>80</th>\n",
       "      <td>MED19</td>\n",
       "      <td>A0JLT2</td>\n",
       "      <td>244</td>\n",
       "      <td>Helix</td>\n",
       "      <td>112</td>\n",
       "      <td>116</td>\n",
       "      <td>4</td>\n",
       "      <td>16.0</td>\n",
       "      <td>No</td>\n",
       "      <td>None</td>\n",
       "      <td>...</td>\n",
       "      <td>0</td>\n",
       "      <td>1</td>\n",
       "      <td>0</td>\n",
       "      <td>0</td>\n",
       "      <td>0</td>\n",
       "      <td>0</td>\n",
       "      <td>0</td>\n",
       "      <td>0</td>\n",
       "      <td>0</td>\n",
       "      <td>0</td>\n",
       "    </tr>\n",
       "    <tr>\n",
       "      <th>81</th>\n",
       "      <td>MED19</td>\n",
       "      <td>A0JLT2</td>\n",
       "      <td>244</td>\n",
       "      <td>Turn</td>\n",
       "      <td>117</td>\n",
       "      <td>119</td>\n",
       "      <td>2</td>\n",
       "      <td>1.0</td>\n",
       "      <td>No</td>\n",
       "      <td>None</td>\n",
       "      <td>...</td>\n",
       "      <td>0</td>\n",
       "      <td>0</td>\n",
       "      <td>0</td>\n",
       "      <td>0</td>\n",
       "      <td>0</td>\n",
       "      <td>0</td>\n",
       "      <td>0</td>\n",
       "      <td>0</td>\n",
       "      <td>0</td>\n",
       "      <td>0</td>\n",
       "    </tr>\n",
       "    <tr>\n",
       "      <th>82</th>\n",
       "      <td>MED19</td>\n",
       "      <td>A0JLT2</td>\n",
       "      <td>244</td>\n",
       "      <td>Helix</td>\n",
       "      <td>128</td>\n",
       "      <td>138</td>\n",
       "      <td>10</td>\n",
       "      <td>9.0</td>\n",
       "      <td>No</td>\n",
       "      <td>None</td>\n",
       "      <td>...</td>\n",
       "      <td>0</td>\n",
       "      <td>2</td>\n",
       "      <td>0</td>\n",
       "      <td>1</td>\n",
       "      <td>1</td>\n",
       "      <td>0</td>\n",
       "      <td>0</td>\n",
       "      <td>0</td>\n",
       "      <td>0</td>\n",
       "      <td>0</td>\n",
       "    </tr>\n",
       "    <tr>\n",
       "      <th>83</th>\n",
       "      <td>MED19</td>\n",
       "      <td>A0JLT2</td>\n",
       "      <td>244</td>\n",
       "      <td>Helix</td>\n",
       "      <td>147</td>\n",
       "      <td>152</td>\n",
       "      <td>5</td>\n",
       "      <td>9.0</td>\n",
       "      <td>No</td>\n",
       "      <td>None</td>\n",
       "      <td>...</td>\n",
       "      <td>0</td>\n",
       "      <td>0</td>\n",
       "      <td>0</td>\n",
       "      <td>0</td>\n",
       "      <td>0</td>\n",
       "      <td>1</td>\n",
       "      <td>0</td>\n",
       "      <td>0</td>\n",
       "      <td>0</td>\n",
       "      <td>0</td>\n",
       "    </tr>\n",
       "  </tbody>\n",
       "</table>\n",
       "<p>84 rows × 34 columns</p>\n",
       "</div>"
      ],
      "text/plain": [
       "   gene name Uniprot ID  sequence length Feature name  start  end  length  \\\n",
       "0      RBM47     A0AV96              593  Beta strand    150  156       6   \n",
       "1      RBM47     A0AV96              593        Helix    164  174      10   \n",
       "2      RBM47     A0AV96              593  Beta strand    178  182       4   \n",
       "3      RBM47     A0AV96              593  Beta strand    185  187       2   \n",
       "4      RBM47     A0AV96              593         Turn    189  193       4   \n",
       "..       ...        ...              ...          ...    ...  ...     ...   \n",
       "79     MED19     A0JLT2              244        Helix     90   96       6   \n",
       "80     MED19     A0JLT2              244        Helix    112  116       4   \n",
       "81     MED19     A0JLT2              244         Turn    117  119       2   \n",
       "82     MED19     A0JLT2              244        Helix    128  138      10   \n",
       "83     MED19     A0JLT2              244        Helix    147  152       5   \n",
       "\n",
       "    gap left Overlap with domain Domain name  ...  N  P  Q  R  S  T  V  W  Y  \\\n",
       "0        NaN                 Yes       RRM 2  ...  1  0  0  1  0  0  0  0  0   \n",
       "1        8.0                 Yes       RRM 2  ...  0  0  0  1  0  0  0  0  0   \n",
       "2        4.0                 Yes       RRM 2  ...  0  0  0  0  0  0  2  0  0   \n",
       "3        3.0                 Yes       RRM 2  ...  0  0  0  0  1  0  0  0  0   \n",
       "4        2.0                 Yes       RRM 2  ...  0  0  0  0  0  0  0  0  0   \n",
       "..       ...                 ...         ...  ... .. .. .. .. .. .. .. .. ..   \n",
       "79       4.0                  No        None  ...  1  0  1  0  0  0  0  0  1   \n",
       "80      16.0                  No        None  ...  0  1  0  0  0  0  0  0  0   \n",
       "81       1.0                  No        None  ...  0  0  0  0  0  0  0  0  0   \n",
       "82       9.0                  No        None  ...  0  2  0  1  1  0  0  0  0   \n",
       "83       9.0                  No        None  ...  0  0  0  0  0  1  0  0  0   \n",
       "\n",
       "    Z  \n",
       "0   0  \n",
       "1   0  \n",
       "2   0  \n",
       "3   0  \n",
       "4   0  \n",
       ".. ..  \n",
       "79  0  \n",
       "80  0  \n",
       "81  0  \n",
       "82  0  \n",
       "83  0  \n",
       "\n",
       "[84 rows x 34 columns]"
      ]
     },
     "execution_count": 95,
     "metadata": {},
     "output_type": "execute_result"
    }
   ],
   "source": [
    "df"
   ]
  },
  {
   "cell_type": "code",
   "execution_count": 96,
   "id": "73847054-1586-4182-98e1-64f0ed4eaa81",
   "metadata": {},
   "outputs": [],
   "source": [
    "df.to_csv('test_18_04_2023.csv', index=False)"
   ]
  },
  {
   "cell_type": "code",
   "execution_count": 29,
   "id": "9b5c55a8-ed96-4015-9a88-99edcc02e2cb",
   "metadata": {},
   "outputs": [
    {
     "data": {
      "text/html": [
       "<div>\n",
       "<style scoped>\n",
       "    .dataframe tbody tr th:only-of-type {\n",
       "        vertical-align: middle;\n",
       "    }\n",
       "\n",
       "    .dataframe tbody tr th {\n",
       "        vertical-align: top;\n",
       "    }\n",
       "\n",
       "    .dataframe thead th {\n",
       "        text-align: right;\n",
       "    }\n",
       "</style>\n",
       "<table border=\"1\" class=\"dataframe\">\n",
       "  <thead>\n",
       "    <tr style=\"text-align: right;\">\n",
       "      <th></th>\n",
       "      <th>gene name</th>\n",
       "      <th>Uniprot ID</th>\n",
       "      <th>sequence length</th>\n",
       "      <th>Feature name</th>\n",
       "      <th>start</th>\n",
       "      <th>end</th>\n",
       "      <th>length</th>\n",
       "      <th>gap left</th>\n",
       "      <th>Overlap with domain</th>\n",
       "      <th>Domain name</th>\n",
       "    </tr>\n",
       "  </thead>\n",
       "  <tbody>\n",
       "  </tbody>\n",
       "</table>\n",
       "</div>"
      ],
      "text/plain": [
       "Empty DataFrame\n",
       "Columns: [gene name, Uniprot ID, sequence length, Feature name, start, end, length, gap left, Overlap with domain, Domain name]\n",
       "Index: []"
      ]
     },
     "execution_count": 29,
     "metadata": {},
     "output_type": "execute_result"
    }
   ],
   "source": [
    "df[df['Uniprot ID']=='P11309']"
   ]
  },
  {
   "cell_type": "code",
   "execution_count": 16,
   "id": "f18bac4a-a632-4e0d-8234-3313a5939948",
   "metadata": {},
   "outputs": [],
   "source": [
    "df.to_csv('all_human_28_03_24.csv', index=False)"
   ]
  },
  {
   "cell_type": "code",
   "execution_count": 16,
   "id": "70c8265b-acbe-4037-94d4-37111cce896f",
   "metadata": {},
   "outputs": [
    {
     "data": {
      "text/plain": [
       "<Axes: xlabel='gap left', ylabel='Count'>"
      ]
     },
     "execution_count": 16,
     "metadata": {},
     "output_type": "execute_result"
    },
    {
     "data": {
      "image/png": "[encoded data removed]",
      "text/plain": [
       "<Figure size 640x480 with 1 Axes>"
      ]
     },
     "metadata": {},
     "output_type": "display_data"
    }
   ],
   "source": [
    "import seaborn as sbn\n",
    "sbn.histplot(df['gap left'], bins=np.arange(700, 1400, 10), kde=False, color='skyblue')\n",
    "#plt.yscale('log')"
   ]
  },
  {
   "cell_type": "markdown",
   "id": "98a4782f-5146-43ce-96d4-5bccb7574f63",
   "metadata": {},
   "source": [
    "### Getting list of uniprot IDS that are expressed in cells"
   ]
  },
  {
   "cell_type": "code",
   "execution_count": 17,
   "id": "d9d084fc-f86d-4bbc-8a0d-ff1c66ca977d",
   "metadata": {},
   "outputs": [],
   "source": [
    "df = pd.read_csv('filtered_table_final_100223.csv')"
   ]
  },
  {
   "cell_type": "code",
   "execution_count": 183,
   "id": "3bdd938a-ed93-4d38-ac5a-ed5e25a65275",
   "metadata": {},
   "outputs": [],
   "source": [
    "selected_rows = df[df['HEK293T_expressed'] == 1]"
   ]
  },
  {
   "cell_type": "code",
   "execution_count": 20,
   "id": "95606a09-d83f-4189-847e-c949f4592c50",
   "metadata": {},
   "outputs": [],
   "source": [
    "selected_rows = df"
   ]
  },
  {
   "cell_type": "code",
   "execution_count": 21,
   "id": "c789bbe6-d670-4cf2-b0df-a87c5533ec50",
   "metadata": {},
   "outputs": [],
   "source": [
    "ids_to_be_used = selected_rows['uniprot_id'].values\n",
    "ids_to_be_used = np.unique(ids_to_be_used)\n",
    "f = open('data_idr/expressed_uni_prot_ids.txt','w')\n",
    "for uni in ids_to_be_used:\n",
    "    f.write(uni+'\\n')\n",
    "f.close()"
   ]
  },
  {
   "cell_type": "code",
   "execution_count": 22,
   "id": "e492ab23-8805-4d1a-80ef-d95080b8f54f",
   "metadata": {},
   "outputs": [],
   "source": [
    "## all of the data\n",
    "ids_to_be_used = df['uniprot_id'].values\n",
    "ids_to_be_used = np.unique(ids_to_be_used)\n",
    "f = open('data_idr/all_uni_prot_ids.txt','w')\n",
    "for uni in ids_to_be_used:\n",
    "    f.write(uni+'\\n')\n",
    "f.close()"
   ]
  },
  {
   "cell_type": "code",
   "execution_count": 21,
   "id": "ce0cf668-87d3-480c-9f9d-3f9bfa7733b2",
   "metadata": {},
   "outputs": [
    {
     "data": {
      "text/html": [
       "<div>\n",
       "<style scoped>\n",
       "    .dataframe tbody tr th:only-of-type {\n",
       "        vertical-align: middle;\n",
       "    }\n",
       "\n",
       "    .dataframe tbody tr th {\n",
       "        vertical-align: top;\n",
       "    }\n",
       "\n",
       "    .dataframe thead th {\n",
       "        text-align: right;\n",
       "    }\n",
       "</style>\n",
       "<table border=\"1\" class=\"dataframe\">\n",
       "  <thead>\n",
       "    <tr style=\"text-align: right;\">\n",
       "      <th></th>\n",
       "      <th>gene name</th>\n",
       "      <th>Uniprot ID</th>\n",
       "      <th>sequence length</th>\n",
       "      <th>Feature name</th>\n",
       "      <th>start</th>\n",
       "      <th>end</th>\n",
       "      <th>length</th>\n",
       "      <th>gap left</th>\n",
       "      <th>Overlap with domain</th>\n",
       "      <th>Domain name</th>\n",
       "    </tr>\n",
       "  </thead>\n",
       "  <tbody>\n",
       "  </tbody>\n",
       "</table>\n",
       "</div>"
      ],
      "text/plain": [
       "Empty DataFrame\n",
       "Columns: [gene name, Uniprot ID, sequence length, Feature name, start, end, length, gap left, Overlap with domain, Domain name]\n",
       "Index: []"
      ]
     },
     "execution_count": 21,
     "metadata": {},
     "output_type": "execute_result"
    }
   ],
   "source": [
    "df[df['Uniprot ID']=='P11309']"
   ]
  },
  {
   "cell_type": "markdown",
   "id": "b9079482-b928-4909-a39c-0a3d8d87a635",
   "metadata": {},
   "source": [
    "## Original processing"
   ]
  },
  {
   "cell_type": "code",
   "execution_count": null,
   "id": "b292d10a-1774-4ea8-b689-79caa33c7a88",
   "metadata": {},
   "outputs": [],
   "source": [
    "desired_features = ['Beta strand','Helix','Turn']\n",
    "\n",
    "# get domain inforamtion\n",
    "known_things = {}\n",
    "final_table_list = []   \n",
    "to_download = []\n",
    "ids = ['Q8TAD8']    \n",
    "ids = ['A0JLT2']\n",
    "            \n",
    "# loop over all uniprot ids\n",
    "for i in range(len(ids)):\n",
    "#for i in range(20):\n",
    "    # Process uniprot file\n",
    "    fname = 'unique_ids/'+ids[i]+'.json'\n",
    "\n",
    "\n",
    "    if os.path.isfile(fname):\n",
    "        f = open(fname)\n",
    "        data = json.load(f)\n",
    "        f.close()\n",
    "\n",
    "        known_things = get_domainn_region_info(data)\n",
    "        #print(known_things)\n",
    "        \n",
    "        keys = data.keys()\n",
    "\n",
    "        sequence_length = data['sequence']['length']\n",
    "\n",
    "        # populate dictionary:\n",
    "        #print(f\"sequence length is: {sequence_length}\")\n",
    "        gene_name = 'NA'\n",
    "        if 'genes' in keys:\n",
    "            gene_name = data['genes'][0]['geneName']['value']\n",
    "            \n",
    "        #print(f\"gene name: {gene_name}\")\n",
    "        \n",
    "        uni_id = 'NA'\n",
    "        if 'primaryAccession' in keys:\n",
    "            uni_id = data['primaryAccession'] \n",
    "        #print('uni_id',uni_id)\n",
    "    \n",
    "\n",
    "        if 'features' in keys:\n",
    "            \n",
    "            # populate domain information\n",
    "            for d in data['features']:\n",
    "                #print(d['type'])\n",
    "                if d['type'] == 'Domain':\n",
    "                    known_things['Domain'].append([d['location']['start']['value'], d['location']['end']['value'], d['description']])\n",
    "            \n",
    "            domain_mask = get_domain_mask(known_things,sequence_length)\n",
    "\n",
    "            #if len(final_table_list)>0:\n",
    "            #    final_table_list[-1]['gap'] = final_table_list[-1]['sequence length']-final_table_list[-1]['end']\n",
    "            \n",
    "            # now check secondary structure features and if there is overlap\n",
    "            starts = []\n",
    "            ends = []\n",
    "            count = 0\n",
    "            gap = None\n",
    "            for f in data['features']:\n",
    "                if f['type'] in desired_features:\n",
    "                    final_table_dic = {}\n",
    "                    # print('=====New feature====')\n",
    "                    # print(f['type'])\n",
    "\n",
    "                    start = f['location']['start']['value']\n",
    "                    end = f['location']['end']['value']\n",
    "\n",
    "                    # Check if features is in domain\n",
    "                    if feature_in_domain(domain_mask, start, end, percent_overlap=50):\n",
    "                        domain_feature_overalp = 'Yes'\n",
    "                        domain_name = get_domain_name(start,end,known_things)\n",
    "                    else:\n",
    "                        domain_feature_overalp = 'No'  \n",
    "                        domain_name = 'None'\n",
    "                    \n",
    "\n",
    "                    if len(ends)>0:\n",
    "                        gap = start-ends[-1]\n",
    "                    #elif count == len(data['features'])-1:\n",
    "                    #    print('this happens')\n",
    "                    #    gap = (sequence_length-end)\n",
    "                    #else:\n",
    "                    #    gap = start\n",
    "                    feature_length = end - start\n",
    "                    final_table_dic['gene name'] = gene_name\n",
    "                    final_table_dic['Uniprot ID'] = uni_id\n",
    "                    final_table_dic['sequence length'] = sequence_length\n",
    "                    final_table_dic['Feature name'] = f['type']\n",
    "                    final_table_dic['start'] = start\n",
    "                    final_table_dic['end'] = end\n",
    "                    final_table_dic['length'] = feature_length\n",
    "                    if gap is None:\n",
    "                        final_table_dic['gap left'] = gap\n",
    "                    else:\n",
    "                        final_table_dic['gap left'] = int(gap)\n",
    "                    final_table_dic['Overlap with domain'] = domain_feature_overalp\n",
    "                    final_table_dic['Domain name'] = domain_name\n",
    "                    if verbose: \n",
    "                        print(f\"start: {start}\")\n",
    "                        print(f\"end: {end}\")\n",
    "                        print(f\"length: {feature_length}\")\n",
    "                        print(f\"gap: {gap}\")\n",
    "                        print(f\"Domain feature overlap: {domain_feature_overalp}\")\n",
    "                        print(f\"domain name: {domain_name}\")\n",
    "                    starts.append(start)\n",
    "                    ends.append(end)\n",
    "                    final_table_list.append(final_table_dic)\n",
    "                    count+=1\n",
    "            starts = np.array(starts)\n",
    "            ends = np.array(ends)\n",
    "            gaps = (starts[1:-1]-ends[0:-2])-1\n",
    "    else:\n",
    "        #print(f\"{fname} does not exist\")\n",
    "        to_download.append(ids[i])\n"
   ]
  }
 ],
 "metadata": {
  "kernelspec": {
   "display_name": "Python 3 (ipykernel)",
   "language": "python",
   "name": "python3"
  },
  "language_info": {
   "codemirror_mode": {
    "name": "ipython",
    "version": 3
   },
   "file_extension": ".py",
   "mimetype": "text/x-python",
   "name": "python",
   "nbconvert_exporter": "python",
   "pygments_lexer": "ipython3",
   "version": "3.9.18"
  }
 },
 "nbformat": 4,
 "nbformat_minor": 5
}
